{
 "cells": [
  {
   "cell_type": "code",
   "execution_count": 2,
   "metadata": {
    "id": "dE8xVX9GrI2g"
   },
   "outputs": [],
   "source": [
    "import numpy as np\n",
    "import pandas as pd\n",
    "import matplotlib.pyplot as plt\n",
    "import seaborn as sns"
   ]
  },
  {
   "cell_type": "code",
   "execution_count": 4,
   "metadata": {
    "id": "06pet-0nreN6"
   },
   "outputs": [
    {
     "ename": "FileNotFoundError",
     "evalue": "[Errno 2] No such file or directory: 'flight_data_final.xlsx'",
     "output_type": "error",
     "traceback": [
      "\u001b[1;31m---------------------------------------------------------------------------\u001b[0m",
      "\u001b[1;31mFileNotFoundError\u001b[0m                         Traceback (most recent call last)",
      "\u001b[1;32m<ipython-input-4-c977b4448b4f>\u001b[0m in \u001b[0;36m<module>\u001b[1;34m\u001b[0m\n\u001b[1;32m----> 1\u001b[1;33m \u001b[0mdata\u001b[0m \u001b[1;33m=\u001b[0m \u001b[0mpd\u001b[0m\u001b[1;33m.\u001b[0m\u001b[0mread_excel\u001b[0m\u001b[1;33m(\u001b[0m\u001b[1;34mr'flight_data_final.xlsx'\u001b[0m\u001b[1;33m)\u001b[0m\u001b[1;33m\u001b[0m\u001b[1;33m\u001b[0m\u001b[0m\n\u001b[0m\u001b[0;32m      2\u001b[0m \u001b[0mpd\u001b[0m\u001b[1;33m.\u001b[0m\u001b[0mset_option\u001b[0m\u001b[1;33m(\u001b[0m\u001b[1;34m'display.max_columns'\u001b[0m\u001b[1;33m,\u001b[0m \u001b[1;32mNone\u001b[0m\u001b[1;33m)\u001b[0m\u001b[1;33m\u001b[0m\u001b[1;33m\u001b[0m\u001b[0m\n",
      "\u001b[1;32m~\\anaconda3\\lib\\site-packages\\pandas\\io\\excel\\_base.py\u001b[0m in \u001b[0;36mread_excel\u001b[1;34m(io, sheet_name, header, names, index_col, usecols, squeeze, dtype, engine, converters, true_values, false_values, skiprows, nrows, na_values, keep_default_na, verbose, parse_dates, date_parser, thousands, comment, skipfooter, convert_float, mangle_dupe_cols, **kwds)\u001b[0m\n\u001b[0;32m    302\u001b[0m \u001b[1;33m\u001b[0m\u001b[0m\n\u001b[0;32m    303\u001b[0m     \u001b[1;32mif\u001b[0m \u001b[1;32mnot\u001b[0m \u001b[0misinstance\u001b[0m\u001b[1;33m(\u001b[0m\u001b[0mio\u001b[0m\u001b[1;33m,\u001b[0m \u001b[0mExcelFile\u001b[0m\u001b[1;33m)\u001b[0m\u001b[1;33m:\u001b[0m\u001b[1;33m\u001b[0m\u001b[1;33m\u001b[0m\u001b[0m\n\u001b[1;32m--> 304\u001b[1;33m         \u001b[0mio\u001b[0m \u001b[1;33m=\u001b[0m \u001b[0mExcelFile\u001b[0m\u001b[1;33m(\u001b[0m\u001b[0mio\u001b[0m\u001b[1;33m,\u001b[0m \u001b[0mengine\u001b[0m\u001b[1;33m=\u001b[0m\u001b[0mengine\u001b[0m\u001b[1;33m)\u001b[0m\u001b[1;33m\u001b[0m\u001b[1;33m\u001b[0m\u001b[0m\n\u001b[0m\u001b[0;32m    305\u001b[0m     \u001b[1;32melif\u001b[0m \u001b[0mengine\u001b[0m \u001b[1;32mand\u001b[0m \u001b[0mengine\u001b[0m \u001b[1;33m!=\u001b[0m \u001b[0mio\u001b[0m\u001b[1;33m.\u001b[0m\u001b[0mengine\u001b[0m\u001b[1;33m:\u001b[0m\u001b[1;33m\u001b[0m\u001b[1;33m\u001b[0m\u001b[0m\n\u001b[0;32m    306\u001b[0m         raise ValueError(\n",
      "\u001b[1;32m~\\anaconda3\\lib\\site-packages\\pandas\\io\\excel\\_base.py\u001b[0m in \u001b[0;36m__init__\u001b[1;34m(self, io, engine)\u001b[0m\n\u001b[0;32m    819\u001b[0m         \u001b[0mself\u001b[0m\u001b[1;33m.\u001b[0m\u001b[0m_io\u001b[0m \u001b[1;33m=\u001b[0m \u001b[0mstringify_path\u001b[0m\u001b[1;33m(\u001b[0m\u001b[0mio\u001b[0m\u001b[1;33m)\u001b[0m\u001b[1;33m\u001b[0m\u001b[1;33m\u001b[0m\u001b[0m\n\u001b[0;32m    820\u001b[0m \u001b[1;33m\u001b[0m\u001b[0m\n\u001b[1;32m--> 821\u001b[1;33m         \u001b[0mself\u001b[0m\u001b[1;33m.\u001b[0m\u001b[0m_reader\u001b[0m \u001b[1;33m=\u001b[0m \u001b[0mself\u001b[0m\u001b[1;33m.\u001b[0m\u001b[0m_engines\u001b[0m\u001b[1;33m[\u001b[0m\u001b[0mengine\u001b[0m\u001b[1;33m]\u001b[0m\u001b[1;33m(\u001b[0m\u001b[0mself\u001b[0m\u001b[1;33m.\u001b[0m\u001b[0m_io\u001b[0m\u001b[1;33m)\u001b[0m\u001b[1;33m\u001b[0m\u001b[1;33m\u001b[0m\u001b[0m\n\u001b[0m\u001b[0;32m    822\u001b[0m \u001b[1;33m\u001b[0m\u001b[0m\n\u001b[0;32m    823\u001b[0m     \u001b[1;32mdef\u001b[0m \u001b[0m__fspath__\u001b[0m\u001b[1;33m(\u001b[0m\u001b[0mself\u001b[0m\u001b[1;33m)\u001b[0m\u001b[1;33m:\u001b[0m\u001b[1;33m\u001b[0m\u001b[1;33m\u001b[0m\u001b[0m\n",
      "\u001b[1;32m~\\anaconda3\\lib\\site-packages\\pandas\\io\\excel\\_xlrd.py\u001b[0m in \u001b[0;36m__init__\u001b[1;34m(self, filepath_or_buffer)\u001b[0m\n\u001b[0;32m     19\u001b[0m         \u001b[0merr_msg\u001b[0m \u001b[1;33m=\u001b[0m \u001b[1;34m\"Install xlrd >= 1.0.0 for Excel support\"\u001b[0m\u001b[1;33m\u001b[0m\u001b[1;33m\u001b[0m\u001b[0m\n\u001b[0;32m     20\u001b[0m         \u001b[0mimport_optional_dependency\u001b[0m\u001b[1;33m(\u001b[0m\u001b[1;34m\"xlrd\"\u001b[0m\u001b[1;33m,\u001b[0m \u001b[0mextra\u001b[0m\u001b[1;33m=\u001b[0m\u001b[0merr_msg\u001b[0m\u001b[1;33m)\u001b[0m\u001b[1;33m\u001b[0m\u001b[1;33m\u001b[0m\u001b[0m\n\u001b[1;32m---> 21\u001b[1;33m         \u001b[0msuper\u001b[0m\u001b[1;33m(\u001b[0m\u001b[1;33m)\u001b[0m\u001b[1;33m.\u001b[0m\u001b[0m__init__\u001b[0m\u001b[1;33m(\u001b[0m\u001b[0mfilepath_or_buffer\u001b[0m\u001b[1;33m)\u001b[0m\u001b[1;33m\u001b[0m\u001b[1;33m\u001b[0m\u001b[0m\n\u001b[0m\u001b[0;32m     22\u001b[0m \u001b[1;33m\u001b[0m\u001b[0m\n\u001b[0;32m     23\u001b[0m     \u001b[1;33m@\u001b[0m\u001b[0mproperty\u001b[0m\u001b[1;33m\u001b[0m\u001b[1;33m\u001b[0m\u001b[0m\n",
      "\u001b[1;32m~\\anaconda3\\lib\\site-packages\\pandas\\io\\excel\\_base.py\u001b[0m in \u001b[0;36m__init__\u001b[1;34m(self, filepath_or_buffer)\u001b[0m\n\u001b[0;32m    351\u001b[0m             \u001b[0mself\u001b[0m\u001b[1;33m.\u001b[0m\u001b[0mbook\u001b[0m \u001b[1;33m=\u001b[0m \u001b[0mself\u001b[0m\u001b[1;33m.\u001b[0m\u001b[0mload_workbook\u001b[0m\u001b[1;33m(\u001b[0m\u001b[0mfilepath_or_buffer\u001b[0m\u001b[1;33m)\u001b[0m\u001b[1;33m\u001b[0m\u001b[1;33m\u001b[0m\u001b[0m\n\u001b[0;32m    352\u001b[0m         \u001b[1;32melif\u001b[0m \u001b[0misinstance\u001b[0m\u001b[1;33m(\u001b[0m\u001b[0mfilepath_or_buffer\u001b[0m\u001b[1;33m,\u001b[0m \u001b[0mstr\u001b[0m\u001b[1;33m)\u001b[0m\u001b[1;33m:\u001b[0m\u001b[1;33m\u001b[0m\u001b[1;33m\u001b[0m\u001b[0m\n\u001b[1;32m--> 353\u001b[1;33m             \u001b[0mself\u001b[0m\u001b[1;33m.\u001b[0m\u001b[0mbook\u001b[0m \u001b[1;33m=\u001b[0m \u001b[0mself\u001b[0m\u001b[1;33m.\u001b[0m\u001b[0mload_workbook\u001b[0m\u001b[1;33m(\u001b[0m\u001b[0mfilepath_or_buffer\u001b[0m\u001b[1;33m)\u001b[0m\u001b[1;33m\u001b[0m\u001b[1;33m\u001b[0m\u001b[0m\n\u001b[0m\u001b[0;32m    354\u001b[0m         \u001b[1;32melif\u001b[0m \u001b[0misinstance\u001b[0m\u001b[1;33m(\u001b[0m\u001b[0mfilepath_or_buffer\u001b[0m\u001b[1;33m,\u001b[0m \u001b[0mbytes\u001b[0m\u001b[1;33m)\u001b[0m\u001b[1;33m:\u001b[0m\u001b[1;33m\u001b[0m\u001b[1;33m\u001b[0m\u001b[0m\n\u001b[0;32m    355\u001b[0m             \u001b[0mself\u001b[0m\u001b[1;33m.\u001b[0m\u001b[0mbook\u001b[0m \u001b[1;33m=\u001b[0m \u001b[0mself\u001b[0m\u001b[1;33m.\u001b[0m\u001b[0mload_workbook\u001b[0m\u001b[1;33m(\u001b[0m\u001b[0mBytesIO\u001b[0m\u001b[1;33m(\u001b[0m\u001b[0mfilepath_or_buffer\u001b[0m\u001b[1;33m)\u001b[0m\u001b[1;33m)\u001b[0m\u001b[1;33m\u001b[0m\u001b[1;33m\u001b[0m\u001b[0m\n",
      "\u001b[1;32m~\\anaconda3\\lib\\site-packages\\pandas\\io\\excel\\_xlrd.py\u001b[0m in \u001b[0;36mload_workbook\u001b[1;34m(self, filepath_or_buffer)\u001b[0m\n\u001b[0;32m     34\u001b[0m             \u001b[1;32mreturn\u001b[0m \u001b[0mopen_workbook\u001b[0m\u001b[1;33m(\u001b[0m\u001b[0mfile_contents\u001b[0m\u001b[1;33m=\u001b[0m\u001b[0mdata\u001b[0m\u001b[1;33m)\u001b[0m\u001b[1;33m\u001b[0m\u001b[1;33m\u001b[0m\u001b[0m\n\u001b[0;32m     35\u001b[0m         \u001b[1;32melse\u001b[0m\u001b[1;33m:\u001b[0m\u001b[1;33m\u001b[0m\u001b[1;33m\u001b[0m\u001b[0m\n\u001b[1;32m---> 36\u001b[1;33m             \u001b[1;32mreturn\u001b[0m \u001b[0mopen_workbook\u001b[0m\u001b[1;33m(\u001b[0m\u001b[0mfilepath_or_buffer\u001b[0m\u001b[1;33m)\u001b[0m\u001b[1;33m\u001b[0m\u001b[1;33m\u001b[0m\u001b[0m\n\u001b[0m\u001b[0;32m     37\u001b[0m \u001b[1;33m\u001b[0m\u001b[0m\n\u001b[0;32m     38\u001b[0m     \u001b[1;33m@\u001b[0m\u001b[0mproperty\u001b[0m\u001b[1;33m\u001b[0m\u001b[1;33m\u001b[0m\u001b[0m\n",
      "\u001b[1;32m~\\anaconda3\\lib\\site-packages\\xlrd\\__init__.py\u001b[0m in \u001b[0;36mopen_workbook\u001b[1;34m(filename, logfile, verbosity, use_mmap, file_contents, encoding_override, formatting_info, on_demand, ragged_rows)\u001b[0m\n\u001b[0;32m    109\u001b[0m     \u001b[1;32melse\u001b[0m\u001b[1;33m:\u001b[0m\u001b[1;33m\u001b[0m\u001b[1;33m\u001b[0m\u001b[0m\n\u001b[0;32m    110\u001b[0m         \u001b[0mfilename\u001b[0m \u001b[1;33m=\u001b[0m \u001b[0mos\u001b[0m\u001b[1;33m.\u001b[0m\u001b[0mpath\u001b[0m\u001b[1;33m.\u001b[0m\u001b[0mexpanduser\u001b[0m\u001b[1;33m(\u001b[0m\u001b[0mfilename\u001b[0m\u001b[1;33m)\u001b[0m\u001b[1;33m\u001b[0m\u001b[1;33m\u001b[0m\u001b[0m\n\u001b[1;32m--> 111\u001b[1;33m         \u001b[1;32mwith\u001b[0m \u001b[0mopen\u001b[0m\u001b[1;33m(\u001b[0m\u001b[0mfilename\u001b[0m\u001b[1;33m,\u001b[0m \u001b[1;34m\"rb\"\u001b[0m\u001b[1;33m)\u001b[0m \u001b[1;32mas\u001b[0m \u001b[0mf\u001b[0m\u001b[1;33m:\u001b[0m\u001b[1;33m\u001b[0m\u001b[1;33m\u001b[0m\u001b[0m\n\u001b[0m\u001b[0;32m    112\u001b[0m             \u001b[0mpeek\u001b[0m \u001b[1;33m=\u001b[0m \u001b[0mf\u001b[0m\u001b[1;33m.\u001b[0m\u001b[0mread\u001b[0m\u001b[1;33m(\u001b[0m\u001b[0mpeeksz\u001b[0m\u001b[1;33m)\u001b[0m\u001b[1;33m\u001b[0m\u001b[1;33m\u001b[0m\u001b[0m\n\u001b[0;32m    113\u001b[0m     \u001b[1;32mif\u001b[0m \u001b[0mpeek\u001b[0m \u001b[1;33m==\u001b[0m \u001b[1;34mb\"PK\\x03\\x04\"\u001b[0m\u001b[1;33m:\u001b[0m \u001b[1;31m# a ZIP file\u001b[0m\u001b[1;33m\u001b[0m\u001b[1;33m\u001b[0m\u001b[0m\n",
      "\u001b[1;31mFileNotFoundError\u001b[0m: [Errno 2] No such file or directory: 'flight_data_final.xlsx'"
     ]
    }
   ],
   "source": [
    "data = pd.read_excel(r'flight_data_final.xlsx')\n",
    "pd.set_option('display.max_columns', None)"
   ]
  },
  {
   "cell_type": "code",
   "execution_count": 4,
   "metadata": {
    "colab": {
     "base_uri": "https://localhost:8080/",
     "height": 305
    },
    "id": "OwbQ8KKIrd10",
    "outputId": "da9223c8-af35-4d9f-adaa-656025424d77"
   },
   "outputs": [
    {
     "data": {
      "text/html": [
       "<div>\n",
       "<style scoped>\n",
       "    .dataframe tbody tr th:only-of-type {\n",
       "        vertical-align: middle;\n",
       "    }\n",
       "\n",
       "    .dataframe tbody tr th {\n",
       "        vertical-align: top;\n",
       "    }\n",
       "\n",
       "    .dataframe thead th {\n",
       "        text-align: right;\n",
       "    }\n",
       "</style>\n",
       "<table border=\"1\" class=\"dataframe\">\n",
       "  <thead>\n",
       "    <tr style=\"text-align: right;\">\n",
       "      <th></th>\n",
       "      <th>Out_Date</th>\n",
       "      <th>Out_Day</th>\n",
       "      <th>Out_Weekday</th>\n",
       "      <th>Out_Month</th>\n",
       "      <th>out_Year</th>\n",
       "      <th>Out_Time</th>\n",
       "      <th>Out_Cities</th>\n",
       "      <th>Out_Airline</th>\n",
       "      <th>Return_Date</th>\n",
       "      <th>Return_Day</th>\n",
       "      <th>Return_Weekday</th>\n",
       "      <th>Return_Month</th>\n",
       "      <th>Return_Year</th>\n",
       "      <th>Return_Time</th>\n",
       "      <th>Return_Cities</th>\n",
       "      <th>Return_Airline</th>\n",
       "      <th>Out_Travel_Time</th>\n",
       "      <th>Return_Travel_Time</th>\n",
       "      <th>Out_Journey_Type</th>\n",
       "      <th>Return_Journey_Type</th>\n",
       "      <th>Out_Stop_Cities</th>\n",
       "      <th>Return_Stop_Cities</th>\n",
       "      <th>timestamp</th>\n",
       "      <th>sort</th>\n",
       "      <th>Price</th>\n",
       "    </tr>\n",
       "  </thead>\n",
       "  <tbody>\n",
       "    <tr>\n",
       "      <th>0</th>\n",
       "      <td>15/5/2021</td>\n",
       "      <td>15.0</td>\n",
       "      <td>Saturday</td>\n",
       "      <td>May</td>\n",
       "      <td>2021.0</td>\n",
       "      <td>05:25–21:45</td>\n",
       "      <td>AMD</td>\n",
       "      <td>SpiceJet</td>\n",
       "      <td>25/5/2021</td>\n",
       "      <td>25.0</td>\n",
       "      <td>Tuesday</td>\n",
       "      <td>May</td>\n",
       "      <td>2021.0</td>\n",
       "      <td>06:25–23:55</td>\n",
       "      <td>MAA</td>\n",
       "      <td>SpiceJet</td>\n",
       "      <td>16h 20m</td>\n",
       "      <td>17h 30m</td>\n",
       "      <td>1 stop</td>\n",
       "      <td>1 stop</td>\n",
       "      <td>BOM</td>\n",
       "      <td>BOM</td>\n",
       "      <td>20210410-1142</td>\n",
       "      <td>best</td>\n",
       "      <td>6125.0</td>\n",
       "    </tr>\n",
       "    <tr>\n",
       "      <th>1</th>\n",
       "      <td>15/5/2021</td>\n",
       "      <td>15.0</td>\n",
       "      <td>Saturday</td>\n",
       "      <td>May</td>\n",
       "      <td>2021.0</td>\n",
       "      <td>04:15–09:20</td>\n",
       "      <td>AMD</td>\n",
       "      <td>IndiGo</td>\n",
       "      <td>25/5/2021</td>\n",
       "      <td>25.0</td>\n",
       "      <td>Tuesday</td>\n",
       "      <td>May</td>\n",
       "      <td>2021.0</td>\n",
       "      <td>09:20–13:55</td>\n",
       "      <td>MAA</td>\n",
       "      <td>IndiGo</td>\n",
       "      <td>5h 05m</td>\n",
       "      <td>4h 35m</td>\n",
       "      <td>1 stop</td>\n",
       "      <td>1 stop</td>\n",
       "      <td>BLR</td>\n",
       "      <td>BLR</td>\n",
       "      <td>20210410-1142</td>\n",
       "      <td>best</td>\n",
       "      <td>6686.0</td>\n",
       "    </tr>\n",
       "    <tr>\n",
       "      <th>2</th>\n",
       "      <td>15/5/2021</td>\n",
       "      <td>15.0</td>\n",
       "      <td>Saturday</td>\n",
       "      <td>May</td>\n",
       "      <td>2021.0</td>\n",
       "      <td>18:15–22:45</td>\n",
       "      <td>AMD</td>\n",
       "      <td>IndiGo</td>\n",
       "      <td>25/5/2021</td>\n",
       "      <td>25.0</td>\n",
       "      <td>Tuesday</td>\n",
       "      <td>May</td>\n",
       "      <td>2021.0</td>\n",
       "      <td>09:00–14:20</td>\n",
       "      <td>MAA</td>\n",
       "      <td>IndiGo</td>\n",
       "      <td>4h 30m</td>\n",
       "      <td>5h 20m</td>\n",
       "      <td>1 stop</td>\n",
       "      <td>1 stop</td>\n",
       "      <td>BOM</td>\n",
       "      <td>BOM</td>\n",
       "      <td>20210410-1142</td>\n",
       "      <td>best</td>\n",
       "      <td>6686.0</td>\n",
       "    </tr>\n",
       "    <tr>\n",
       "      <th>3</th>\n",
       "      <td>15/5/2021</td>\n",
       "      <td>15.0</td>\n",
       "      <td>Saturday</td>\n",
       "      <td>May</td>\n",
       "      <td>2021.0</td>\n",
       "      <td>18:15–22:45</td>\n",
       "      <td>AMD</td>\n",
       "      <td>IndiGo</td>\n",
       "      <td>25/5/2021</td>\n",
       "      <td>25.0</td>\n",
       "      <td>Tuesday</td>\n",
       "      <td>May</td>\n",
       "      <td>2021.0</td>\n",
       "      <td>14:05–19:35</td>\n",
       "      <td>MAA</td>\n",
       "      <td>IndiGo</td>\n",
       "      <td>4h 30m</td>\n",
       "      <td>5h 30m</td>\n",
       "      <td>1 stop</td>\n",
       "      <td>1 stop</td>\n",
       "      <td>BOM</td>\n",
       "      <td>BOM</td>\n",
       "      <td>20210410-1142</td>\n",
       "      <td>best</td>\n",
       "      <td>6686.0</td>\n",
       "    </tr>\n",
       "    <tr>\n",
       "      <th>4</th>\n",
       "      <td>15/5/2021</td>\n",
       "      <td>15.0</td>\n",
       "      <td>Saturday</td>\n",
       "      <td>May</td>\n",
       "      <td>2021.0</td>\n",
       "      <td>18:15–22:45</td>\n",
       "      <td>AMD</td>\n",
       "      <td>IndiGo</td>\n",
       "      <td>25/5/2021</td>\n",
       "      <td>25.0</td>\n",
       "      <td>Tuesday</td>\n",
       "      <td>May</td>\n",
       "      <td>2021.0</td>\n",
       "      <td>13:15–18:55</td>\n",
       "      <td>MAA</td>\n",
       "      <td>IndiGo</td>\n",
       "      <td>4h 30m</td>\n",
       "      <td>5h 40m</td>\n",
       "      <td>1 stop</td>\n",
       "      <td>1 stop</td>\n",
       "      <td>BOM</td>\n",
       "      <td>BOM</td>\n",
       "      <td>20210410-1142</td>\n",
       "      <td>best</td>\n",
       "      <td>6686.0</td>\n",
       "    </tr>\n",
       "  </tbody>\n",
       "</table>\n",
       "</div>"
      ],
      "text/plain": [
       "    Out_Date  Out_Day Out_Weekday Out_Month  out_Year     Out_Time Out_Cities  \\\n",
       "0  15/5/2021     15.0    Saturday       May    2021.0  05:25–21:45        AMD   \n",
       "1  15/5/2021     15.0    Saturday       May    2021.0  04:15–09:20        AMD   \n",
       "2  15/5/2021     15.0    Saturday       May    2021.0  18:15–22:45        AMD   \n",
       "3  15/5/2021     15.0    Saturday       May    2021.0  18:15–22:45        AMD   \n",
       "4  15/5/2021     15.0    Saturday       May    2021.0  18:15–22:45        AMD   \n",
       "\n",
       "  Out_Airline Return_Date  Return_Day Return_Weekday Return_Month  \\\n",
       "0    SpiceJet   25/5/2021        25.0        Tuesday          May   \n",
       "1      IndiGo   25/5/2021        25.0        Tuesday          May   \n",
       "2      IndiGo   25/5/2021        25.0        Tuesday          May   \n",
       "3      IndiGo   25/5/2021        25.0        Tuesday          May   \n",
       "4      IndiGo   25/5/2021        25.0        Tuesday          May   \n",
       "\n",
       "   Return_Year  Return_Time Return_Cities Return_Airline Out_Travel_Time  \\\n",
       "0       2021.0  06:25–23:55           MAA       SpiceJet         16h 20m   \n",
       "1       2021.0  09:20–13:55           MAA         IndiGo          5h 05m   \n",
       "2       2021.0  09:00–14:20           MAA         IndiGo          4h 30m   \n",
       "3       2021.0  14:05–19:35           MAA         IndiGo          4h 30m   \n",
       "4       2021.0  13:15–18:55           MAA         IndiGo          4h 30m   \n",
       "\n",
       "  Return_Travel_Time Out_Journey_Type Return_Journey_Type Out_Stop_Cities  \\\n",
       "0            17h 30m           1 stop              1 stop             BOM   \n",
       "1             4h 35m           1 stop              1 stop             BLR   \n",
       "2             5h 20m           1 stop              1 stop             BOM   \n",
       "3             5h 30m           1 stop              1 stop             BOM   \n",
       "4             5h 40m           1 stop              1 stop             BOM   \n",
       "\n",
       "  Return_Stop_Cities      timestamp  sort   Price  \n",
       "0                BOM  20210410-1142  best  6125.0  \n",
       "1                BLR  20210410-1142  best  6686.0  \n",
       "2                BOM  20210410-1142  best  6686.0  \n",
       "3                BOM  20210410-1142  best  6686.0  \n",
       "4                BOM  20210410-1142  best  6686.0  "
      ]
     },
     "execution_count": 4,
     "metadata": {},
     "output_type": "execute_result"
    }
   ],
   "source": [
    "data.head()"
   ]
  },
  {
   "cell_type": "code",
   "execution_count": 5,
   "metadata": {
    "colab": {
     "base_uri": "https://localhost:8080/"
    },
    "id": "HHPqSFxIrjWJ",
    "outputId": "0448d43c-998d-4a69-bb02-0a7055eac341"
   },
   "outputs": [
    {
     "name": "stdout",
     "output_type": "stream",
     "text": [
      "<class 'pandas.core.frame.DataFrame'>\n",
      "RangeIndex: 1157 entries, 0 to 1156\n",
      "Data columns (total 25 columns):\n",
      " #   Column               Non-Null Count  Dtype  \n",
      "---  ------               --------------  -----  \n",
      " 0   Out_Date             1113 non-null   object \n",
      " 1   Out_Day              1113 non-null   float64\n",
      " 2   Out_Weekday          1113 non-null   object \n",
      " 3   Out_Month            1113 non-null   object \n",
      " 4   out_Year             1113 non-null   float64\n",
      " 5   Out_Time             1157 non-null   object \n",
      " 6   Out_Cities           1157 non-null   object \n",
      " 7   Out_Airline          1157 non-null   object \n",
      " 8   Return_Date          1104 non-null   object \n",
      " 9   Return_Day           1104 non-null   float64\n",
      " 10  Return_Weekday       1104 non-null   object \n",
      " 11  Return_Month         1104 non-null   object \n",
      " 12  Return_Year          1104 non-null   float64\n",
      " 13  Return_Time          1157 non-null   object \n",
      " 14  Return_Cities        1157 non-null   object \n",
      " 15  Return_Airline       1157 non-null   object \n",
      " 16  Out_Travel_Time      1153 non-null   object \n",
      " 17  Return_Travel_Time   1153 non-null   object \n",
      " 18  Out_Journey_Type     1153 non-null   object \n",
      " 19  Return_Journey_Type  1153 non-null   object \n",
      " 20  Out_Stop_Cities      1153 non-null   object \n",
      " 21  Return_Stop_Cities   1153 non-null   object \n",
      " 22  timestamp            1157 non-null   object \n",
      " 23  sort                 1157 non-null   object \n",
      " 24  Price                1153 non-null   float64\n",
      "dtypes: float64(5), object(20)\n",
      "memory usage: 226.1+ KB\n"
     ]
    }
   ],
   "source": [
    "data.info()"
   ]
  },
  {
   "cell_type": "code",
   "execution_count": 6,
   "metadata": {
    "id": "71_Hxa1broI4"
   },
   "outputs": [],
   "source": [
    "data.dropna(inplace = True)"
   ]
  },
  {
   "cell_type": "code",
   "execution_count": 8,
   "metadata": {
    "colab": {
     "base_uri": "https://localhost:8080/"
    },
    "id": "l54ZdqvvrsCY",
    "outputId": "69a00d0b-39dd-4f13-b1ec-afb72d3e3755"
   },
   "outputs": [
    {
     "data": {
      "text/plain": [
       "Out_Date               0\n",
       "Out_Day                0\n",
       "Out_Weekday            0\n",
       "Out_Month              0\n",
       "out_Year               0\n",
       "Out_Time               0\n",
       "Out_Cities             0\n",
       "Out_Airline            0\n",
       "Return_Date            0\n",
       "Return_Day             0\n",
       "Return_Weekday         0\n",
       "Return_Month           0\n",
       "Return_Year            0\n",
       "Return_Time            0\n",
       "Return_Cities          0\n",
       "Return_Airline         0\n",
       "Out_Travel_Time        0\n",
       "Return_Travel_Time     0\n",
       "Out_Journey_Type       0\n",
       "Return_Journey_Type    0\n",
       "Out_Stop_Cities        0\n",
       "Return_Stop_Cities     0\n",
       "timestamp              0\n",
       "sort                   0\n",
       "Price                  0\n",
       "dtype: int64"
      ]
     },
     "execution_count": 8,
     "metadata": {},
     "output_type": "execute_result"
    }
   ],
   "source": [
    "data.isnull().sum()"
   ]
  },
  {
   "cell_type": "markdown",
   "metadata": {
    "id": "SF_bZ69mry4b"
   },
   "source": [
    "##**Out year and Return Year has only 1 unique value i.e 2021**"
   ]
  },
  {
   "cell_type": "code",
   "execution_count": 9,
   "metadata": {
    "colab": {
     "base_uri": "https://localhost:8080/"
    },
    "id": "C0x2ODpgruoj",
    "outputId": "02ad51ef-b99e-491e-dfc0-9f90f72e4ec4"
   },
   "outputs": [
    {
     "data": {
      "text/plain": [
       "array([2021.])"
      ]
     },
     "execution_count": 9,
     "metadata": {},
     "output_type": "execute_result"
    }
   ],
   "source": [
    "data['out_Year'].unique()"
   ]
  },
  {
   "cell_type": "code",
   "execution_count": 10,
   "metadata": {
    "colab": {
     "base_uri": "https://localhost:8080/"
    },
    "id": "vfCW-4EZr4qd",
    "outputId": "b2dd4900-bb4e-45be-e9b4-f3adbfc64365"
   },
   "outputs": [
    {
     "data": {
      "text/plain": [
       "array([2021.])"
      ]
     },
     "execution_count": 10,
     "metadata": {},
     "output_type": "execute_result"
    }
   ],
   "source": [
    "data['Return_Year'].unique()"
   ]
  },
  {
   "cell_type": "code",
   "execution_count": 11,
   "metadata": {
    "id": "52mrIuiar62r"
   },
   "outputs": [],
   "source": [
    "#Removing Columns which we dont need.\n",
    "\n",
    "data.drop([\"out_Year\"], axis = 1, inplace = True)\n",
    "data.drop([\"Return_Year\"], axis = 1, inplace = True)\n",
    "data.drop([\"timestamp\"], axis = 1, inplace = True)"
   ]
  },
  {
   "cell_type": "markdown",
   "metadata": {
    "id": "aH9Bg5ofsE3o"
   },
   "source": [
    "#Date Column Handling."
   ]
  },
  {
   "cell_type": "code",
   "execution_count": 12,
   "metadata": {
    "id": "BfJ-c8wnsBk8"
   },
   "outputs": [],
   "source": [
    "#data['Out_Date'] = pd.to_datetime(data.Out_Date, format = \"%d/%m/%Y\")  \n",
    "\n",
    "data.drop([\"Out_Date\"], axis = 1, inplace = True)\n",
    "data.drop([\"Return_Date\"], axis = 1, inplace = True)\n",
    "\n",
    "\n",
    "#data['Return_Date'] = pd.to_datetime(data.Return_Date, format = \"%d/%m/%Y\") "
   ]
  },
  {
   "cell_type": "code",
   "execution_count": 13,
   "metadata": {
    "id": "9726wArzsQdS"
   },
   "outputs": [],
   "source": [
    "#Individual Date .\n",
    "from sklearn.preprocessing import LabelEncoder\n",
    "\n",
    "# For OUT Journey\n",
    "data['Out_Day'] = pd.to_datetime(data.Out_Day  , format = \"%d\").dt.day\n",
    "#MONTH LABEL ENCODING.\n",
    "le = LabelEncoder()\n",
    "data['Out_Month'] = le.fit_transform(data['Out_Month'])\n",
    "\n",
    "# For Return journey no need\n",
    "data.drop([\"Out_Weekday\"], axis = 1, inplace = True)\n",
    "data.drop([\"Return_Weekday\"], axis = 1, inplace = True)\n",
    "data.drop([\"Return_Day\"], axis = 1, inplace = True)\n",
    "data.drop([\"Return_Month\"], axis = 1, inplace = True)\n",
    "\n"
   ]
  },
  {
   "cell_type": "markdown",
   "metadata": {
    "id": "uyy3fWucsxKB"
   },
   "source": [
    "#Time Columns Handling."
   ]
  },
  {
   "cell_type": "markdown",
   "metadata": {
    "id": "5a_iL4PUs11x"
   },
   "source": [
    "##**Out Travel Time**"
   ]
  },
  {
   "cell_type": "code",
   "execution_count": 14,
   "metadata": {
    "id": "b2HYhe1sstrV"
   },
   "outputs": [],
   "source": [
    "#Out_Travel_time:>>> Total Duration for Out Journey.\n",
    "# Assigning and converting Out_Travel_Time column into list\n",
    "duration = list(data[\"Out_Travel_Time\"])\n",
    "\n",
    "for i in range(len(duration)):\n",
    "    if len(duration[i].split()) != 2:    # Check if duration contains only hour or mins\n",
    "        if \"h\" in duration[i]:\n",
    "            duration[i] = duration[i].strip() + \" 0m\"   # Adds 0 minute\n",
    "        else:\n",
    "            duration[i] = \"0h \" + duration[i]           # Adds 0 hour\n",
    "            \n",
    "Duration_Hours = []\n",
    "Duration_Mins = []\n",
    "for i in range(len(duration)):\n",
    "    Duration_Hours.append(int(duration[i].split(sep = \"h\")[0]))    # Extract hours from Out_Travel_time\n",
    "    Duration_Mins.append(int(duration[i].split(sep = \"m\")[0].split()[-1]))   # Extracts only minutes from Out_Travel_time"
   ]
  },
  {
   "cell_type": "code",
   "execution_count": 15,
   "metadata": {
    "id": "ViZQMcs-tN1O"
   },
   "outputs": [],
   "source": [
    "# Adding Out_hours and Out_mins list to dataframe\n",
    "#Duration for OUT\n",
    "data[\"Duration_Hours\"] = Duration_Hours\n",
    "data[\"Duration_Mins\"] = Duration_Mins"
   ]
  },
  {
   "cell_type": "markdown",
   "metadata": {
    "id": "hL6joz70tZhg"
   },
   "source": [
    "##**Return_Travel_Time**"
   ]
  },
  {
   "cell_type": "markdown",
   "metadata": {
    "id": "td4Foxcst5K1"
   },
   "source": [
    "##**Droping Out_Travel_Time & Return_Travel_Time Column**"
   ]
  },
  {
   "cell_type": "code",
   "execution_count": 16,
   "metadata": {
    "id": "m1L6Cqmytl4C"
   },
   "outputs": [],
   "source": [
    "data.drop([\"Out_Travel_Time\"], axis = 1, inplace = True)\n",
    "data.drop([\"Return_Travel_Time\"], axis = 1, inplace = True)"
   ]
  },
  {
   "cell_type": "markdown",
   "metadata": {
    "id": "OPp5rNewuaiA"
   },
   "source": [
    "##**SORT Column**"
   ]
  },
  {
   "cell_type": "code",
   "execution_count": 17,
   "metadata": {
    "colab": {
     "base_uri": "https://localhost:8080/"
    },
    "id": "5WoXvbOGxItf",
    "outputId": "743f29ed-43c7-466c-d40e-dac4a9ae1c8f"
   },
   "outputs": [],
   "source": [
    "data.drop([\"sort\"], axis = 1, inplace = True)"
   ]
  },
  {
   "cell_type": "markdown",
   "metadata": {
    "id": "IUY14dnzvorj"
   },
   "source": [
    "# Out_Time & Return_Time Interval Handling.\n",
    "##Splitting into Starting and Ending Time."
   ]
  },
  {
   "cell_type": "code",
   "execution_count": 18,
   "metadata": {
    "id": "bzcyFW2auoei"
   },
   "outputs": [],
   "source": [
    "#OUT_TIME\n",
    "data['Dep_Time'] = data['Out_Time'].apply(lambda x: x.split('–')[0])\n",
    "data['Arr_Time'] = data['Out_Time'].apply(lambda x: x.split('–')[1])"
   ]
  },
  {
   "cell_type": "code",
   "execution_count": 20,
   "metadata": {},
   "outputs": [],
   "source": [
    "#dep_time split for dep_hour and dep_min\n",
    "\n",
    "data[\"Dep_hour\"] = pd.to_datetime(data[\"Dep_Time\"]).dt.hour\n",
    "data[\"Dep_min\"] = pd.to_datetime(data[\"Dep_Time\"]).dt.minute\n",
    "\n",
    "#Arr_time split for Arrival_hour and Arrival_Min\n",
    "\n",
    "data[\"Arrival_hour\"] = pd.to_datetime(data.Arr_Time).dt.hour\n",
    "data[\"Arrival_min\"] = pd.to_datetime(data.Arr_Time).dt.minute\n"
   ]
  },
  {
   "cell_type": "markdown",
   "metadata": {
    "id": "-9p0d8GkxPkq"
   },
   "source": [
    "#Removing Return_Time Columns"
   ]
  },
  {
   "cell_type": "code",
   "execution_count": 21,
   "metadata": {
    "id": "J4hGISkHwt4D"
   },
   "outputs": [],
   "source": [
    "#data.drop([\"Out_Time\"], axis = 1, inplace = True)\n",
    "data.drop([\"Return_Time\"], axis = 1, inplace = True)\n",
    "data.drop([\"Dep_Time\"], axis = 1, inplace = True)\n",
    "data.drop([\"Arr_Time\"], axis = 1, inplace = True)"
   ]
  },
  {
   "cell_type": "markdown",
   "metadata": {
    "id": "J_jn-JbJxtLo"
   },
   "source": [
    "##Handling Categorical Data\n",
    "##One can find many ways to handle categorical data. Some of them categorical data are,\n",
    "\n",
    "##Nominal data --> data are not in any order --> OneHotEncoder is used in this case\n",
    "##Ordinal data --> data are in order --> LabelEncoder is used in this case"
   ]
  },
  {
   "cell_type": "code",
   "execution_count": 22,
   "metadata": {
    "colab": {
     "base_uri": "https://localhost:8080/"
    },
    "id": "BGtZk6-yxalc",
    "outputId": "d7ac4a58-3bdc-4bd8-f720-72f901fd77ab"
   },
   "outputs": [
    {
     "data": {
      "text/plain": [
       "IndiGo               532\n",
       "GoAir                218\n",
       "SpiceJet             208\n",
       "Air India             64\n",
       "AirAsia India         59\n",
       "Vistara               17\n",
       "Multiple Airlines      6\n",
       "Name: Out_Airline, dtype: int64"
      ]
     },
     "execution_count": 22,
     "metadata": {},
     "output_type": "execute_result"
    }
   ],
   "source": [
    "data['Out_Airline'].value_counts()"
   ]
  },
  {
   "cell_type": "code",
   "execution_count": 23,
   "metadata": {
    "colab": {
     "base_uri": "https://localhost:8080/",
     "height": 395
    },
    "id": "6MzN61pbyAEH",
    "outputId": "2911a7fb-15fe-47d6-9ea4-7c5da1221a73"
   },
   "outputs": [
    {
     "data": {
      "image/png": "[encoded data removed]",
      "text/plain": [
       "<Figure size 1296x432 with 1 Axes>"
      ]
     },
     "metadata": {
      "needs_background": "light"
     },
     "output_type": "display_data"
    }
   ],
   "source": [
    "#Out_Airline vs price:\n",
    "sns.catplot(y = \"Price\", x = \"Out_Airline\", data = data.sort_values(\"Price\", ascending = False), kind=\"boxen\", height = 6, aspect = 3)\n",
    "plt.show()"
   ]
  },
  {
   "cell_type": "code",
   "execution_count": 24,
   "metadata": {
    "colab": {
     "base_uri": "https://localhost:8080/",
     "height": 198
    },
    "id": "H0gGvwL9yhZc",
    "outputId": "1bf76c86-9d93-4dd1-f8e6-845769953472"
   },
   "outputs": [
    {
     "data": {
      "text/html": [
       "<div>\n",
       "<style scoped>\n",
       "    .dataframe tbody tr th:only-of-type {\n",
       "        vertical-align: middle;\n",
       "    }\n",
       "\n",
       "    .dataframe tbody tr th {\n",
       "        vertical-align: top;\n",
       "    }\n",
       "\n",
       "    .dataframe thead th {\n",
       "        text-align: right;\n",
       "    }\n",
       "</style>\n",
       "<table border=\"1\" class=\"dataframe\">\n",
       "  <thead>\n",
       "    <tr style=\"text-align: right;\">\n",
       "      <th></th>\n",
       "      <th>Out_Airline_AirAsia India</th>\n",
       "      <th>Out_Airline_GoAir</th>\n",
       "      <th>Out_Airline_IndiGo</th>\n",
       "      <th>Out_Airline_Multiple Airlines</th>\n",
       "      <th>Out_Airline_SpiceJet</th>\n",
       "      <th>Out_Airline_Vistara</th>\n",
       "    </tr>\n",
       "  </thead>\n",
       "  <tbody>\n",
       "    <tr>\n",
       "      <th>0</th>\n",
       "      <td>0</td>\n",
       "      <td>0</td>\n",
       "      <td>0</td>\n",
       "      <td>0</td>\n",
       "      <td>1</td>\n",
       "      <td>0</td>\n",
       "    </tr>\n",
       "    <tr>\n",
       "      <th>1</th>\n",
       "      <td>0</td>\n",
       "      <td>0</td>\n",
       "      <td>1</td>\n",
       "      <td>0</td>\n",
       "      <td>0</td>\n",
       "      <td>0</td>\n",
       "    </tr>\n",
       "    <tr>\n",
       "      <th>2</th>\n",
       "      <td>0</td>\n",
       "      <td>0</td>\n",
       "      <td>1</td>\n",
       "      <td>0</td>\n",
       "      <td>0</td>\n",
       "      <td>0</td>\n",
       "    </tr>\n",
       "    <tr>\n",
       "      <th>3</th>\n",
       "      <td>0</td>\n",
       "      <td>0</td>\n",
       "      <td>1</td>\n",
       "      <td>0</td>\n",
       "      <td>0</td>\n",
       "      <td>0</td>\n",
       "    </tr>\n",
       "    <tr>\n",
       "      <th>4</th>\n",
       "      <td>0</td>\n",
       "      <td>0</td>\n",
       "      <td>1</td>\n",
       "      <td>0</td>\n",
       "      <td>0</td>\n",
       "      <td>0</td>\n",
       "    </tr>\n",
       "  </tbody>\n",
       "</table>\n",
       "</div>"
      ],
      "text/plain": [
       "   Out_Airline_AirAsia India  Out_Airline_GoAir  Out_Airline_IndiGo  \\\n",
       "0                          0                  0                   0   \n",
       "1                          0                  0                   1   \n",
       "2                          0                  0                   1   \n",
       "3                          0                  0                   1   \n",
       "4                          0                  0                   1   \n",
       "\n",
       "   Out_Airline_Multiple Airlines  Out_Airline_SpiceJet  Out_Airline_Vistara  \n",
       "0                              0                     1                    0  \n",
       "1                              0                     0                    0  \n",
       "2                              0                     0                    0  \n",
       "3                              0                     0                    0  \n",
       "4                              0                     0                    0  "
      ]
     },
     "execution_count": 24,
     "metadata": {},
     "output_type": "execute_result"
    }
   ],
   "source": [
    "# As Airline is Nominal Categorical data we will perform OneHotEncoding\n",
    "\n",
    "Out_Airline = data[['Out_Airline']]\n",
    "\n",
    "Out_Airline = pd.get_dummies(Out_Airline, drop_first = True)\n",
    "\n",
    "Out_Airline.head()"
   ]
  },
  {
   "cell_type": "code",
   "execution_count": 25,
   "metadata": {
    "colab": {
     "base_uri": "https://localhost:8080/"
    },
    "id": "WGTmlk2EzSRb",
    "outputId": "d65843c8-2c61-4a91-ae64-99a28b9a9f94"
   },
   "outputs": [],
   "source": [
    "#For Return_Airline\n",
    "\n",
    "data.drop([\"Return_Airline\"], axis = 1, inplace = True)"
   ]
  },
  {
   "cell_type": "markdown",
   "metadata": {
    "id": "vJBIDkef0Qzk"
   },
   "source": [
    "#Handling Out_Cities and Return_Cities Column"
   ]
  },
  {
   "cell_type": "code",
   "execution_count": 26,
   "metadata": {
    "colab": {
     "base_uri": "https://localhost:8080/"
    },
    "id": "N5xv1TYKzzmm",
    "outputId": "dcd75517-7d7a-4ed9-93d6-211916bf9e53"
   },
   "outputs": [
    {
     "data": {
      "text/plain": [
       "BOM    186\n",
       "CCU    180\n",
       "SHL    110\n",
       "MAA    101\n",
       "DEL     93\n",
       "BLR     67\n",
       "CCJ     57\n",
       "VNS     48\n",
       "IXR     47\n",
       "AMD     47\n",
       "IXL     45\n",
       "GAU     44\n",
       "CNN     42\n",
       "JAI     37\n",
       "Name: Out_Cities, dtype: int64"
      ]
     },
     "execution_count": 26,
     "metadata": {},
     "output_type": "execute_result"
    }
   ],
   "source": [
    "data['Out_Cities'].value_counts()"
   ]
  },
  {
   "cell_type": "code",
   "execution_count": 27,
   "metadata": {
    "colab": {
     "base_uri": "https://localhost:8080/",
     "height": 312
    },
    "id": "-KO4Um6f0g-S",
    "outputId": "8a7cab0e-2cac-4f43-ad7d-c53ca34f1771"
   },
   "outputs": [
    {
     "data": {
      "image/png": "[encoded data removed]",
      "text/plain": [
       "<Figure size 864x288 with 1 Axes>"
      ]
     },
     "metadata": {
      "needs_background": "light"
     },
     "output_type": "display_data"
    }
   ],
   "source": [
    "#Out_Cities vs Price\n",
    "\n",
    "sns.catplot(y = \"Price\", x = \"Out_Cities\", data = data.sort_values(\"Price\", ascending = False), kind=\"boxen\", height = 4, aspect = 3)\n",
    "plt.show()"
   ]
  },
  {
   "cell_type": "code",
   "execution_count": 28,
   "metadata": {
    "colab": {
     "base_uri": "https://localhost:8080/",
     "height": 218
    },
    "id": "FKBejTz_1MCE",
    "outputId": "fc1fddb9-6238-415f-ff60-9d5063b88cae"
   },
   "outputs": [
    {
     "data": {
      "text/html": [
       "<div>\n",
       "<style scoped>\n",
       "    .dataframe tbody tr th:only-of-type {\n",
       "        vertical-align: middle;\n",
       "    }\n",
       "\n",
       "    .dataframe tbody tr th {\n",
       "        vertical-align: top;\n",
       "    }\n",
       "\n",
       "    .dataframe thead th {\n",
       "        text-align: right;\n",
       "    }\n",
       "</style>\n",
       "<table border=\"1\" class=\"dataframe\">\n",
       "  <thead>\n",
       "    <tr style=\"text-align: right;\">\n",
       "      <th></th>\n",
       "      <th>Out_Cities_BLR</th>\n",
       "      <th>Out_Cities_BOM</th>\n",
       "      <th>Out_Cities_CCJ</th>\n",
       "      <th>Out_Cities_CCU</th>\n",
       "      <th>Out_Cities_CNN</th>\n",
       "      <th>Out_Cities_DEL</th>\n",
       "      <th>Out_Cities_GAU</th>\n",
       "      <th>Out_Cities_IXL</th>\n",
       "      <th>Out_Cities_IXR</th>\n",
       "      <th>Out_Cities_JAI</th>\n",
       "      <th>Out_Cities_MAA</th>\n",
       "      <th>Out_Cities_SHL</th>\n",
       "      <th>Out_Cities_VNS</th>\n",
       "    </tr>\n",
       "  </thead>\n",
       "  <tbody>\n",
       "    <tr>\n",
       "      <th>0</th>\n",
       "      <td>0</td>\n",
       "      <td>0</td>\n",
       "      <td>0</td>\n",
       "      <td>0</td>\n",
       "      <td>0</td>\n",
       "      <td>0</td>\n",
       "      <td>0</td>\n",
       "      <td>0</td>\n",
       "      <td>0</td>\n",
       "      <td>0</td>\n",
       "      <td>0</td>\n",
       "      <td>0</td>\n",
       "      <td>0</td>\n",
       "    </tr>\n",
       "    <tr>\n",
       "      <th>1</th>\n",
       "      <td>0</td>\n",
       "      <td>0</td>\n",
       "      <td>0</td>\n",
       "      <td>0</td>\n",
       "      <td>0</td>\n",
       "      <td>0</td>\n",
       "      <td>0</td>\n",
       "      <td>0</td>\n",
       "      <td>0</td>\n",
       "      <td>0</td>\n",
       "      <td>0</td>\n",
       "      <td>0</td>\n",
       "      <td>0</td>\n",
       "    </tr>\n",
       "    <tr>\n",
       "      <th>2</th>\n",
       "      <td>0</td>\n",
       "      <td>0</td>\n",
       "      <td>0</td>\n",
       "      <td>0</td>\n",
       "      <td>0</td>\n",
       "      <td>0</td>\n",
       "      <td>0</td>\n",
       "      <td>0</td>\n",
       "      <td>0</td>\n",
       "      <td>0</td>\n",
       "      <td>0</td>\n",
       "      <td>0</td>\n",
       "      <td>0</td>\n",
       "    </tr>\n",
       "    <tr>\n",
       "      <th>3</th>\n",
       "      <td>0</td>\n",
       "      <td>0</td>\n",
       "      <td>0</td>\n",
       "      <td>0</td>\n",
       "      <td>0</td>\n",
       "      <td>0</td>\n",
       "      <td>0</td>\n",
       "      <td>0</td>\n",
       "      <td>0</td>\n",
       "      <td>0</td>\n",
       "      <td>0</td>\n",
       "      <td>0</td>\n",
       "      <td>0</td>\n",
       "    </tr>\n",
       "    <tr>\n",
       "      <th>4</th>\n",
       "      <td>0</td>\n",
       "      <td>0</td>\n",
       "      <td>0</td>\n",
       "      <td>0</td>\n",
       "      <td>0</td>\n",
       "      <td>0</td>\n",
       "      <td>0</td>\n",
       "      <td>0</td>\n",
       "      <td>0</td>\n",
       "      <td>0</td>\n",
       "      <td>0</td>\n",
       "      <td>0</td>\n",
       "      <td>0</td>\n",
       "    </tr>\n",
       "  </tbody>\n",
       "</table>\n",
       "</div>"
      ],
      "text/plain": [
       "   Out_Cities_BLR  Out_Cities_BOM  Out_Cities_CCJ  Out_Cities_CCU  \\\n",
       "0               0               0               0               0   \n",
       "1               0               0               0               0   \n",
       "2               0               0               0               0   \n",
       "3               0               0               0               0   \n",
       "4               0               0               0               0   \n",
       "\n",
       "   Out_Cities_CNN  Out_Cities_DEL  Out_Cities_GAU  Out_Cities_IXL  \\\n",
       "0               0               0               0               0   \n",
       "1               0               0               0               0   \n",
       "2               0               0               0               0   \n",
       "3               0               0               0               0   \n",
       "4               0               0               0               0   \n",
       "\n",
       "   Out_Cities_IXR  Out_Cities_JAI  Out_Cities_MAA  Out_Cities_SHL  \\\n",
       "0               0               0               0               0   \n",
       "1               0               0               0               0   \n",
       "2               0               0               0               0   \n",
       "3               0               0               0               0   \n",
       "4               0               0               0               0   \n",
       "\n",
       "   Out_Cities_VNS  \n",
       "0               0  \n",
       "1               0  \n",
       "2               0  \n",
       "3               0  \n",
       "4               0  "
      ]
     },
     "execution_count": 28,
     "metadata": {},
     "output_type": "execute_result"
    }
   ],
   "source": [
    "#we'll perform OneHotEncoding\n",
    "\n",
    "Out_Cities = data[['Out_Cities']]\n",
    "\n",
    "Out_Cities = pd.get_dummies(Out_Cities, drop_first = True)\n",
    "\n",
    "Out_Cities.head()"
   ]
  },
  {
   "cell_type": "code",
   "execution_count": 29,
   "metadata": {
    "colab": {
     "base_uri": "https://localhost:8080/"
    },
    "id": "yOyLmXL41oce",
    "outputId": "313894d4-2733-4cc6-bc29-56f53adb3f55"
   },
   "outputs": [
    {
     "data": {
      "text/plain": [
       "DEL    197\n",
       "STV    183\n",
       "MAA    114\n",
       "ATQ     94\n",
       "BLR     91\n",
       "AMD     88\n",
       "VGA     71\n",
       "LKO     48\n",
       "HYD     47\n",
       "GAU     45\n",
       "IXE     42\n",
       "GOP     34\n",
       "CJB     32\n",
       "PAT      9\n",
       "AGX      9\n",
       "Name: Return_Cities, dtype: int64"
      ]
     },
     "execution_count": 29,
     "metadata": {},
     "output_type": "execute_result"
    }
   ],
   "source": [
    "data['Return_Cities'].value_counts()"
   ]
  },
  {
   "cell_type": "code",
   "execution_count": 30,
   "metadata": {
    "colab": {
     "base_uri": "https://localhost:8080/",
     "height": 312
    },
    "id": "Ni22yxZJ2NE0",
    "outputId": "ffa0e172-36fe-4e74-b1f7-6308f944de82"
   },
   "outputs": [
    {
     "data": {
      "image/png": "[encoded data removed]",
      "text/plain": [
       "<Figure size 864x288 with 1 Axes>"
      ]
     },
     "metadata": {
      "needs_background": "light"
     },
     "output_type": "display_data"
    }
   ],
   "source": [
    "#Return_Cities vs Price\n",
    "\n",
    "sns.catplot(y = \"Price\", x = \"Return_Cities\", data = data.sort_values(\"Price\", ascending = False), kind=\"boxen\", height = 4, aspect = 3)\n",
    "plt.show()"
   ]
  },
  {
   "cell_type": "code",
   "execution_count": 31,
   "metadata": {
    "colab": {
     "base_uri": "https://localhost:8080/",
     "height": 218
    },
    "id": "AXedRytL2Yj3",
    "outputId": "6c5f87fe-f006-4a5f-e32c-aae1589eb78a"
   },
   "outputs": [
    {
     "data": {
      "text/html": [
       "<div>\n",
       "<style scoped>\n",
       "    .dataframe tbody tr th:only-of-type {\n",
       "        vertical-align: middle;\n",
       "    }\n",
       "\n",
       "    .dataframe tbody tr th {\n",
       "        vertical-align: top;\n",
       "    }\n",
       "\n",
       "    .dataframe thead th {\n",
       "        text-align: right;\n",
       "    }\n",
       "</style>\n",
       "<table border=\"1\" class=\"dataframe\">\n",
       "  <thead>\n",
       "    <tr style=\"text-align: right;\">\n",
       "      <th></th>\n",
       "      <th>Return_Cities_AMD</th>\n",
       "      <th>Return_Cities_ATQ</th>\n",
       "      <th>Return_Cities_BLR</th>\n",
       "      <th>Return_Cities_CJB</th>\n",
       "      <th>Return_Cities_DEL</th>\n",
       "      <th>Return_Cities_GAU</th>\n",
       "      <th>Return_Cities_GOP</th>\n",
       "      <th>Return_Cities_HYD</th>\n",
       "      <th>Return_Cities_IXE</th>\n",
       "      <th>Return_Cities_LKO</th>\n",
       "      <th>Return_Cities_MAA</th>\n",
       "      <th>Return_Cities_PAT</th>\n",
       "      <th>Return_Cities_STV</th>\n",
       "      <th>Return_Cities_VGA</th>\n",
       "    </tr>\n",
       "  </thead>\n",
       "  <tbody>\n",
       "    <tr>\n",
       "      <th>0</th>\n",
       "      <td>0</td>\n",
       "      <td>0</td>\n",
       "      <td>0</td>\n",
       "      <td>0</td>\n",
       "      <td>0</td>\n",
       "      <td>0</td>\n",
       "      <td>0</td>\n",
       "      <td>0</td>\n",
       "      <td>0</td>\n",
       "      <td>0</td>\n",
       "      <td>1</td>\n",
       "      <td>0</td>\n",
       "      <td>0</td>\n",
       "      <td>0</td>\n",
       "    </tr>\n",
       "    <tr>\n",
       "      <th>1</th>\n",
       "      <td>0</td>\n",
       "      <td>0</td>\n",
       "      <td>0</td>\n",
       "      <td>0</td>\n",
       "      <td>0</td>\n",
       "      <td>0</td>\n",
       "      <td>0</td>\n",
       "      <td>0</td>\n",
       "      <td>0</td>\n",
       "      <td>0</td>\n",
       "      <td>1</td>\n",
       "      <td>0</td>\n",
       "      <td>0</td>\n",
       "      <td>0</td>\n",
       "    </tr>\n",
       "    <tr>\n",
       "      <th>2</th>\n",
       "      <td>0</td>\n",
       "      <td>0</td>\n",
       "      <td>0</td>\n",
       "      <td>0</td>\n",
       "      <td>0</td>\n",
       "      <td>0</td>\n",
       "      <td>0</td>\n",
       "      <td>0</td>\n",
       "      <td>0</td>\n",
       "      <td>0</td>\n",
       "      <td>1</td>\n",
       "      <td>0</td>\n",
       "      <td>0</td>\n",
       "      <td>0</td>\n",
       "    </tr>\n",
       "    <tr>\n",
       "      <th>3</th>\n",
       "      <td>0</td>\n",
       "      <td>0</td>\n",
       "      <td>0</td>\n",
       "      <td>0</td>\n",
       "      <td>0</td>\n",
       "      <td>0</td>\n",
       "      <td>0</td>\n",
       "      <td>0</td>\n",
       "      <td>0</td>\n",
       "      <td>0</td>\n",
       "      <td>1</td>\n",
       "      <td>0</td>\n",
       "      <td>0</td>\n",
       "      <td>0</td>\n",
       "    </tr>\n",
       "    <tr>\n",
       "      <th>4</th>\n",
       "      <td>0</td>\n",
       "      <td>0</td>\n",
       "      <td>0</td>\n",
       "      <td>0</td>\n",
       "      <td>0</td>\n",
       "      <td>0</td>\n",
       "      <td>0</td>\n",
       "      <td>0</td>\n",
       "      <td>0</td>\n",
       "      <td>0</td>\n",
       "      <td>1</td>\n",
       "      <td>0</td>\n",
       "      <td>0</td>\n",
       "      <td>0</td>\n",
       "    </tr>\n",
       "  </tbody>\n",
       "</table>\n",
       "</div>"
      ],
      "text/plain": [
       "   Return_Cities_AMD  Return_Cities_ATQ  Return_Cities_BLR  Return_Cities_CJB  \\\n",
       "0                  0                  0                  0                  0   \n",
       "1                  0                  0                  0                  0   \n",
       "2                  0                  0                  0                  0   \n",
       "3                  0                  0                  0                  0   \n",
       "4                  0                  0                  0                  0   \n",
       "\n",
       "   Return_Cities_DEL  Return_Cities_GAU  Return_Cities_GOP  Return_Cities_HYD  \\\n",
       "0                  0                  0                  0                  0   \n",
       "1                  0                  0                  0                  0   \n",
       "2                  0                  0                  0                  0   \n",
       "3                  0                  0                  0                  0   \n",
       "4                  0                  0                  0                  0   \n",
       "\n",
       "   Return_Cities_IXE  Return_Cities_LKO  Return_Cities_MAA  Return_Cities_PAT  \\\n",
       "0                  0                  0                  1                  0   \n",
       "1                  0                  0                  1                  0   \n",
       "2                  0                  0                  1                  0   \n",
       "3                  0                  0                  1                  0   \n",
       "4                  0                  0                  1                  0   \n",
       "\n",
       "   Return_Cities_STV  Return_Cities_VGA  \n",
       "0                  0                  0  \n",
       "1                  0                  0  \n",
       "2                  0                  0  \n",
       "3                  0                  0  \n",
       "4                  0                  0  "
      ]
     },
     "execution_count": 31,
     "metadata": {},
     "output_type": "execute_result"
    }
   ],
   "source": [
    "Return_Cities = data[['Return_Cities']]\n",
    "\n",
    "Return_Cities = pd.get_dummies(Return_Cities, drop_first = True)\n",
    "\n",
    "Return_Cities.head()"
   ]
  },
  {
   "cell_type": "markdown",
   "metadata": {
    "id": "Wp2JoZdr25sc"
   },
   "source": [
    "#Handling Out_Stop_Cities & Return_Stop_Cities"
   ]
  },
  {
   "cell_type": "code",
   "execution_count": 32,
   "metadata": {
    "id": "Jp4NaeqT35LR"
   },
   "outputs": [],
   "source": [
    "#Out_Stop_Cities column Return_Stop_Cities\n",
    "\n",
    "data.drop([\"Out_Stop_Cities\"], axis = 1, inplace = True)\n",
    "data.drop([\"Return_Stop_Cities\"], axis = 1, inplace = True)\n"
   ]
  },
  {
   "cell_type": "markdown",
   "metadata": {
    "id": "M9GXPlPr51FA"
   },
   "source": [
    "#Handling Out_Journey_Type & \tReturn_Journey_Type column"
   ]
  },
  {
   "cell_type": "code",
   "execution_count": 33,
   "metadata": {
    "colab": {
     "base_uri": "https://localhost:8080/"
    },
    "id": "ZlY0tq_A6mOu",
    "outputId": "28c7b489-564a-417f-e551-340d1ee3852f"
   },
   "outputs": [
    {
     "data": {
      "text/plain": [
       "direct    643\n",
       "1 stop    461\n",
       "Name: Out_Journey_Type, dtype: int64"
      ]
     },
     "execution_count": 33,
     "metadata": {},
     "output_type": "execute_result"
    }
   ],
   "source": [
    "data['Out_Journey_Type'].value_counts()"
   ]
  },
  {
   "cell_type": "code",
   "execution_count": 34,
   "metadata": {
    "colab": {
     "base_uri": "https://localhost:8080/",
     "height": 312
    },
    "id": "YahztrZS6w5J",
    "outputId": "3ceb9141-1b02-4381-b436-967b322e2962"
   },
   "outputs": [
    {
     "data": {
      "image/png": "[encoded data removed]",
      "text/plain": [
       "<Figure size 432x288 with 1 Axes>"
      ]
     },
     "metadata": {
      "needs_background": "light"
     },
     "output_type": "display_data"
    }
   ],
   "source": [
    "#Out_Journey_Type vs Price\n",
    "\n",
    "sns.barplot(data = data, x = \"Out_Journey_Type\", y = \"Price\")\n",
    "#sns.catplot(y = \"Price\", x = \"Out_Journey_Type\", data = data.sort_values(\"Price\", ascending = False), kind=\"boxen\", height = 4, aspect = 3)\n",
    "plt.show()\n"
   ]
  },
  {
   "cell_type": "code",
   "execution_count": 35,
   "metadata": {
    "id": "6K-A8iWm7yX4"
   },
   "outputs": [],
   "source": [
    "#Label Encoding on OUT_JOURNEY_TYPE\n",
    "\n",
    "data['Total_Stops'] = le.fit_transform(data['Out_Journey_Type'])\n"
   ]
  },
  {
   "cell_type": "markdown",
   "metadata": {
    "id": "cuKzmzsx9VSP"
   },
   "source": [
    "## Concatenate dataframe --> data + Out_Airline + \tOut_Cities + Return_Cities \n",
    "\n",
    "##And then Droping the Original Columns."
   ]
  },
  {
   "cell_type": "code",
   "execution_count": 39,
   "metadata": {
    "id": "dptM2Ylj9Nmz"
   },
   "outputs": [],
   "source": [
    "#Adding all the columns together\n",
    "\n",
    "Clean_data = pd.concat([data, Out_Airline, Out_Cities, Return_Cities], axis = 1)"
   ]
  },
  {
   "cell_type": "markdown",
   "metadata": {
    "id": "PMWD06hl_y1k"
   },
   "source": [
    "##Dropping the repeated columns"
   ]
  },
  {
   "cell_type": "code",
   "execution_count": 40,
   "metadata": {
    "id": "4ykFGHXy_uu_"
   },
   "outputs": [],
   "source": [
    "Clean_data.drop(['Out_Airline', 'Out_Cities', 'Return_Cities', 'Out_Time','Out_Journey_Type','Return_Journey_Type'], axis = 1, inplace = True)"
   ]
  },
  {
   "cell_type": "code",
   "execution_count": 41,
   "metadata": {
    "colab": {
     "base_uri": "https://localhost:8080/",
     "height": 322
    },
    "id": "Yan12O85A2cm",
    "outputId": "cd8b35eb-95a1-428f-94fb-ec8753c31bd8"
   },
   "outputs": [
    {
     "data": {
      "text/html": [
       "<div>\n",
       "<style scoped>\n",
       "    .dataframe tbody tr th:only-of-type {\n",
       "        vertical-align: middle;\n",
       "    }\n",
       "\n",
       "    .dataframe tbody tr th {\n",
       "        vertical-align: top;\n",
       "    }\n",
       "\n",
       "    .dataframe thead th {\n",
       "        text-align: right;\n",
       "    }\n",
       "</style>\n",
       "<table border=\"1\" class=\"dataframe\">\n",
       "  <thead>\n",
       "    <tr style=\"text-align: right;\">\n",
       "      <th></th>\n",
       "      <th>Out_Day</th>\n",
       "      <th>Out_Month</th>\n",
       "      <th>Price</th>\n",
       "      <th>Duration_Hours</th>\n",
       "      <th>Duration_Mins</th>\n",
       "      <th>Dep_hour</th>\n",
       "      <th>Dep_min</th>\n",
       "      <th>Arrival_hour</th>\n",
       "      <th>Arrival_min</th>\n",
       "      <th>Total_Stops</th>\n",
       "      <th>Out_Airline_AirAsia India</th>\n",
       "      <th>Out_Airline_GoAir</th>\n",
       "      <th>Out_Airline_IndiGo</th>\n",
       "      <th>Out_Airline_Multiple Airlines</th>\n",
       "      <th>Out_Airline_SpiceJet</th>\n",
       "      <th>Out_Airline_Vistara</th>\n",
       "      <th>Out_Cities_BLR</th>\n",
       "      <th>Out_Cities_BOM</th>\n",
       "      <th>Out_Cities_CCJ</th>\n",
       "      <th>Out_Cities_CCU</th>\n",
       "      <th>Out_Cities_CNN</th>\n",
       "      <th>Out_Cities_DEL</th>\n",
       "      <th>Out_Cities_GAU</th>\n",
       "      <th>Out_Cities_IXL</th>\n",
       "      <th>Out_Cities_IXR</th>\n",
       "      <th>Out_Cities_JAI</th>\n",
       "      <th>Out_Cities_MAA</th>\n",
       "      <th>Out_Cities_SHL</th>\n",
       "      <th>Out_Cities_VNS</th>\n",
       "      <th>Return_Cities_AMD</th>\n",
       "      <th>Return_Cities_ATQ</th>\n",
       "      <th>Return_Cities_BLR</th>\n",
       "      <th>Return_Cities_CJB</th>\n",
       "      <th>Return_Cities_DEL</th>\n",
       "      <th>Return_Cities_GAU</th>\n",
       "      <th>Return_Cities_GOP</th>\n",
       "      <th>Return_Cities_HYD</th>\n",
       "      <th>Return_Cities_IXE</th>\n",
       "      <th>Return_Cities_LKO</th>\n",
       "      <th>Return_Cities_MAA</th>\n",
       "      <th>Return_Cities_PAT</th>\n",
       "      <th>Return_Cities_STV</th>\n",
       "      <th>Return_Cities_VGA</th>\n",
       "    </tr>\n",
       "  </thead>\n",
       "  <tbody>\n",
       "    <tr>\n",
       "      <th>0</th>\n",
       "      <td>15</td>\n",
       "      <td>4</td>\n",
       "      <td>6125.0</td>\n",
       "      <td>16</td>\n",
       "      <td>20</td>\n",
       "      <td>5</td>\n",
       "      <td>25</td>\n",
       "      <td>21</td>\n",
       "      <td>45</td>\n",
       "      <td>0</td>\n",
       "      <td>0</td>\n",
       "      <td>0</td>\n",
       "      <td>0</td>\n",
       "      <td>0</td>\n",
       "      <td>1</td>\n",
       "      <td>0</td>\n",
       "      <td>0</td>\n",
       "      <td>0</td>\n",
       "      <td>0</td>\n",
       "      <td>0</td>\n",
       "      <td>0</td>\n",
       "      <td>0</td>\n",
       "      <td>0</td>\n",
       "      <td>0</td>\n",
       "      <td>0</td>\n",
       "      <td>0</td>\n",
       "      <td>0</td>\n",
       "      <td>0</td>\n",
       "      <td>0</td>\n",
       "      <td>0</td>\n",
       "      <td>0</td>\n",
       "      <td>0</td>\n",
       "      <td>0</td>\n",
       "      <td>0</td>\n",
       "      <td>0</td>\n",
       "      <td>0</td>\n",
       "      <td>0</td>\n",
       "      <td>0</td>\n",
       "      <td>0</td>\n",
       "      <td>1</td>\n",
       "      <td>0</td>\n",
       "      <td>0</td>\n",
       "      <td>0</td>\n",
       "    </tr>\n",
       "    <tr>\n",
       "      <th>1</th>\n",
       "      <td>15</td>\n",
       "      <td>4</td>\n",
       "      <td>6686.0</td>\n",
       "      <td>5</td>\n",
       "      <td>5</td>\n",
       "      <td>4</td>\n",
       "      <td>15</td>\n",
       "      <td>9</td>\n",
       "      <td>20</td>\n",
       "      <td>0</td>\n",
       "      <td>0</td>\n",
       "      <td>0</td>\n",
       "      <td>1</td>\n",
       "      <td>0</td>\n",
       "      <td>0</td>\n",
       "      <td>0</td>\n",
       "      <td>0</td>\n",
       "      <td>0</td>\n",
       "      <td>0</td>\n",
       "      <td>0</td>\n",
       "      <td>0</td>\n",
       "      <td>0</td>\n",
       "      <td>0</td>\n",
       "      <td>0</td>\n",
       "      <td>0</td>\n",
       "      <td>0</td>\n",
       "      <td>0</td>\n",
       "      <td>0</td>\n",
       "      <td>0</td>\n",
       "      <td>0</td>\n",
       "      <td>0</td>\n",
       "      <td>0</td>\n",
       "      <td>0</td>\n",
       "      <td>0</td>\n",
       "      <td>0</td>\n",
       "      <td>0</td>\n",
       "      <td>0</td>\n",
       "      <td>0</td>\n",
       "      <td>0</td>\n",
       "      <td>1</td>\n",
       "      <td>0</td>\n",
       "      <td>0</td>\n",
       "      <td>0</td>\n",
       "    </tr>\n",
       "    <tr>\n",
       "      <th>2</th>\n",
       "      <td>15</td>\n",
       "      <td>4</td>\n",
       "      <td>6686.0</td>\n",
       "      <td>4</td>\n",
       "      <td>30</td>\n",
       "      <td>18</td>\n",
       "      <td>15</td>\n",
       "      <td>22</td>\n",
       "      <td>45</td>\n",
       "      <td>0</td>\n",
       "      <td>0</td>\n",
       "      <td>0</td>\n",
       "      <td>1</td>\n",
       "      <td>0</td>\n",
       "      <td>0</td>\n",
       "      <td>0</td>\n",
       "      <td>0</td>\n",
       "      <td>0</td>\n",
       "      <td>0</td>\n",
       "      <td>0</td>\n",
       "      <td>0</td>\n",
       "      <td>0</td>\n",
       "      <td>0</td>\n",
       "      <td>0</td>\n",
       "      <td>0</td>\n",
       "      <td>0</td>\n",
       "      <td>0</td>\n",
       "      <td>0</td>\n",
       "      <td>0</td>\n",
       "      <td>0</td>\n",
       "      <td>0</td>\n",
       "      <td>0</td>\n",
       "      <td>0</td>\n",
       "      <td>0</td>\n",
       "      <td>0</td>\n",
       "      <td>0</td>\n",
       "      <td>0</td>\n",
       "      <td>0</td>\n",
       "      <td>0</td>\n",
       "      <td>1</td>\n",
       "      <td>0</td>\n",
       "      <td>0</td>\n",
       "      <td>0</td>\n",
       "    </tr>\n",
       "    <tr>\n",
       "      <th>3</th>\n",
       "      <td>15</td>\n",
       "      <td>4</td>\n",
       "      <td>6686.0</td>\n",
       "      <td>4</td>\n",
       "      <td>30</td>\n",
       "      <td>18</td>\n",
       "      <td>15</td>\n",
       "      <td>22</td>\n",
       "      <td>45</td>\n",
       "      <td>0</td>\n",
       "      <td>0</td>\n",
       "      <td>0</td>\n",
       "      <td>1</td>\n",
       "      <td>0</td>\n",
       "      <td>0</td>\n",
       "      <td>0</td>\n",
       "      <td>0</td>\n",
       "      <td>0</td>\n",
       "      <td>0</td>\n",
       "      <td>0</td>\n",
       "      <td>0</td>\n",
       "      <td>0</td>\n",
       "      <td>0</td>\n",
       "      <td>0</td>\n",
       "      <td>0</td>\n",
       "      <td>0</td>\n",
       "      <td>0</td>\n",
       "      <td>0</td>\n",
       "      <td>0</td>\n",
       "      <td>0</td>\n",
       "      <td>0</td>\n",
       "      <td>0</td>\n",
       "      <td>0</td>\n",
       "      <td>0</td>\n",
       "      <td>0</td>\n",
       "      <td>0</td>\n",
       "      <td>0</td>\n",
       "      <td>0</td>\n",
       "      <td>0</td>\n",
       "      <td>1</td>\n",
       "      <td>0</td>\n",
       "      <td>0</td>\n",
       "      <td>0</td>\n",
       "    </tr>\n",
       "    <tr>\n",
       "      <th>4</th>\n",
       "      <td>15</td>\n",
       "      <td>4</td>\n",
       "      <td>6686.0</td>\n",
       "      <td>4</td>\n",
       "      <td>30</td>\n",
       "      <td>18</td>\n",
       "      <td>15</td>\n",
       "      <td>22</td>\n",
       "      <td>45</td>\n",
       "      <td>0</td>\n",
       "      <td>0</td>\n",
       "      <td>0</td>\n",
       "      <td>1</td>\n",
       "      <td>0</td>\n",
       "      <td>0</td>\n",
       "      <td>0</td>\n",
       "      <td>0</td>\n",
       "      <td>0</td>\n",
       "      <td>0</td>\n",
       "      <td>0</td>\n",
       "      <td>0</td>\n",
       "      <td>0</td>\n",
       "      <td>0</td>\n",
       "      <td>0</td>\n",
       "      <td>0</td>\n",
       "      <td>0</td>\n",
       "      <td>0</td>\n",
       "      <td>0</td>\n",
       "      <td>0</td>\n",
       "      <td>0</td>\n",
       "      <td>0</td>\n",
       "      <td>0</td>\n",
       "      <td>0</td>\n",
       "      <td>0</td>\n",
       "      <td>0</td>\n",
       "      <td>0</td>\n",
       "      <td>0</td>\n",
       "      <td>0</td>\n",
       "      <td>0</td>\n",
       "      <td>1</td>\n",
       "      <td>0</td>\n",
       "      <td>0</td>\n",
       "      <td>0</td>\n",
       "    </tr>\n",
       "  </tbody>\n",
       "</table>\n",
       "</div>"
      ],
      "text/plain": [
       "   Out_Day  Out_Month   Price  Duration_Hours  Duration_Mins  Dep_hour  \\\n",
       "0       15          4  6125.0              16             20         5   \n",
       "1       15          4  6686.0               5              5         4   \n",
       "2       15          4  6686.0               4             30        18   \n",
       "3       15          4  6686.0               4             30        18   \n",
       "4       15          4  6686.0               4             30        18   \n",
       "\n",
       "   Dep_min  Arrival_hour  Arrival_min  Total_Stops  Out_Airline_AirAsia India  \\\n",
       "0       25            21           45            0                          0   \n",
       "1       15             9           20            0                          0   \n",
       "2       15            22           45            0                          0   \n",
       "3       15            22           45            0                          0   \n",
       "4       15            22           45            0                          0   \n",
       "\n",
       "   Out_Airline_GoAir  Out_Airline_IndiGo  Out_Airline_Multiple Airlines  \\\n",
       "0                  0                   0                              0   \n",
       "1                  0                   1                              0   \n",
       "2                  0                   1                              0   \n",
       "3                  0                   1                              0   \n",
       "4                  0                   1                              0   \n",
       "\n",
       "   Out_Airline_SpiceJet  Out_Airline_Vistara  Out_Cities_BLR  Out_Cities_BOM  \\\n",
       "0                     1                    0               0               0   \n",
       "1                     0                    0               0               0   \n",
       "2                     0                    0               0               0   \n",
       "3                     0                    0               0               0   \n",
       "4                     0                    0               0               0   \n",
       "\n",
       "   Out_Cities_CCJ  Out_Cities_CCU  Out_Cities_CNN  Out_Cities_DEL  \\\n",
       "0               0               0               0               0   \n",
       "1               0               0               0               0   \n",
       "2               0               0               0               0   \n",
       "3               0               0               0               0   \n",
       "4               0               0               0               0   \n",
       "\n",
       "   Out_Cities_GAU  Out_Cities_IXL  Out_Cities_IXR  Out_Cities_JAI  \\\n",
       "0               0               0               0               0   \n",
       "1               0               0               0               0   \n",
       "2               0               0               0               0   \n",
       "3               0               0               0               0   \n",
       "4               0               0               0               0   \n",
       "\n",
       "   Out_Cities_MAA  Out_Cities_SHL  Out_Cities_VNS  Return_Cities_AMD  \\\n",
       "0               0               0               0                  0   \n",
       "1               0               0               0                  0   \n",
       "2               0               0               0                  0   \n",
       "3               0               0               0                  0   \n",
       "4               0               0               0                  0   \n",
       "\n",
       "   Return_Cities_ATQ  Return_Cities_BLR  Return_Cities_CJB  Return_Cities_DEL  \\\n",
       "0                  0                  0                  0                  0   \n",
       "1                  0                  0                  0                  0   \n",
       "2                  0                  0                  0                  0   \n",
       "3                  0                  0                  0                  0   \n",
       "4                  0                  0                  0                  0   \n",
       "\n",
       "   Return_Cities_GAU  Return_Cities_GOP  Return_Cities_HYD  Return_Cities_IXE  \\\n",
       "0                  0                  0                  0                  0   \n",
       "1                  0                  0                  0                  0   \n",
       "2                  0                  0                  0                  0   \n",
       "3                  0                  0                  0                  0   \n",
       "4                  0                  0                  0                  0   \n",
       "\n",
       "   Return_Cities_LKO  Return_Cities_MAA  Return_Cities_PAT  Return_Cities_STV  \\\n",
       "0                  0                  1                  0                  0   \n",
       "1                  0                  1                  0                  0   \n",
       "2                  0                  1                  0                  0   \n",
       "3                  0                  1                  0                  0   \n",
       "4                  0                  1                  0                  0   \n",
       "\n",
       "   Return_Cities_VGA  \n",
       "0                  0  \n",
       "1                  0  \n",
       "2                  0  \n",
       "3                  0  \n",
       "4                  0  "
      ]
     },
     "execution_count": 41,
     "metadata": {},
     "output_type": "execute_result"
    }
   ],
   "source": [
    "Clean_data.head()"
   ]
  },
  {
   "cell_type": "code",
   "execution_count": 42,
   "metadata": {},
   "outputs": [
    {
     "name": "stdout",
     "output_type": "stream",
     "text": [
      "<class 'pandas.core.frame.DataFrame'>\n",
      "Int64Index: 1104 entries, 0 to 1156\n",
      "Data columns (total 43 columns):\n",
      " #   Column                         Non-Null Count  Dtype  \n",
      "---  ------                         --------------  -----  \n",
      " 0   Out_Day                        1104 non-null   int64  \n",
      " 1   Out_Month                      1104 non-null   int32  \n",
      " 2   Price                          1104 non-null   float64\n",
      " 3   Duration_Hours                 1104 non-null   int64  \n",
      " 4   Duration_Mins                  1104 non-null   int64  \n",
      " 5   Dep_hour                       1104 non-null   int64  \n",
      " 6   Dep_min                        1104 non-null   int64  \n",
      " 7   Arrival_hour                   1104 non-null   int64  \n",
      " 8   Arrival_min                    1104 non-null   int64  \n",
      " 9   Total_Stops                    1104 non-null   int32  \n",
      " 10  Out_Airline_AirAsia India      1104 non-null   uint8  \n",
      " 11  Out_Airline_GoAir              1104 non-null   uint8  \n",
      " 12  Out_Airline_IndiGo             1104 non-null   uint8  \n",
      " 13  Out_Airline_Multiple Airlines  1104 non-null   uint8  \n",
      " 14  Out_Airline_SpiceJet           1104 non-null   uint8  \n",
      " 15  Out_Airline_Vistara            1104 non-null   uint8  \n",
      " 16  Out_Cities_BLR                 1104 non-null   uint8  \n",
      " 17  Out_Cities_BOM                 1104 non-null   uint8  \n",
      " 18  Out_Cities_CCJ                 1104 non-null   uint8  \n",
      " 19  Out_Cities_CCU                 1104 non-null   uint8  \n",
      " 20  Out_Cities_CNN                 1104 non-null   uint8  \n",
      " 21  Out_Cities_DEL                 1104 non-null   uint8  \n",
      " 22  Out_Cities_GAU                 1104 non-null   uint8  \n",
      " 23  Out_Cities_IXL                 1104 non-null   uint8  \n",
      " 24  Out_Cities_IXR                 1104 non-null   uint8  \n",
      " 25  Out_Cities_JAI                 1104 non-null   uint8  \n",
      " 26  Out_Cities_MAA                 1104 non-null   uint8  \n",
      " 27  Out_Cities_SHL                 1104 non-null   uint8  \n",
      " 28  Out_Cities_VNS                 1104 non-null   uint8  \n",
      " 29  Return_Cities_AMD              1104 non-null   uint8  \n",
      " 30  Return_Cities_ATQ              1104 non-null   uint8  \n",
      " 31  Return_Cities_BLR              1104 non-null   uint8  \n",
      " 32  Return_Cities_CJB              1104 non-null   uint8  \n",
      " 33  Return_Cities_DEL              1104 non-null   uint8  \n",
      " 34  Return_Cities_GAU              1104 non-null   uint8  \n",
      " 35  Return_Cities_GOP              1104 non-null   uint8  \n",
      " 36  Return_Cities_HYD              1104 non-null   uint8  \n",
      " 37  Return_Cities_IXE              1104 non-null   uint8  \n",
      " 38  Return_Cities_LKO              1104 non-null   uint8  \n",
      " 39  Return_Cities_MAA              1104 non-null   uint8  \n",
      " 40  Return_Cities_PAT              1104 non-null   uint8  \n",
      " 41  Return_Cities_STV              1104 non-null   uint8  \n",
      " 42  Return_Cities_VGA              1104 non-null   uint8  \n",
      "dtypes: float64(1), int32(2), int64(7), uint8(33)\n",
      "memory usage: 154.1 KB\n"
     ]
    }
   ],
   "source": [
    "Clean_data.info()"
   ]
  },
  {
   "cell_type": "code",
   "execution_count": 43,
   "metadata": {
    "colab": {
     "base_uri": "https://localhost:8080/"
    },
    "id": "Xl8grZSXA6j0",
    "outputId": "65f13363-03e4-4be2-ed25-b7ff9838c422"
   },
   "outputs": [
    {
     "data": {
      "text/plain": [
       "(1104, 43)"
      ]
     },
     "execution_count": 43,
     "metadata": {},
     "output_type": "execute_result"
    }
   ],
   "source": [
    "Clean_data.shape"
   ]
  },
  {
   "cell_type": "markdown",
   "metadata": {
    "id": "Dqk34eQtBewR"
   },
   "source": [
    "#**After cleaning: Final Dataset name is: Clean_data**\n",
    "\n",
    "##**Final shape of Dataset:**\n",
    "##**Rows: 1104**\n",
    "##**Columns: 43**"
   ]
  },
  {
   "cell_type": "markdown",
   "metadata": {
    "id": "S6Kyj-LAChgP"
   },
   "source": [
    "#Next step is Splitting Dataset, X, y\n",
    "\n",
    "#Then Train, Test"
   ]
  },
  {
   "cell_type": "code",
   "execution_count": 44,
   "metadata": {},
   "outputs": [
    {
     "data": {
      "text/html": [
       "<div>\n",
       "<style scoped>\n",
       "    .dataframe tbody tr th:only-of-type {\n",
       "        vertical-align: middle;\n",
       "    }\n",
       "\n",
       "    .dataframe tbody tr th {\n",
       "        vertical-align: top;\n",
       "    }\n",
       "\n",
       "    .dataframe thead th {\n",
       "        text-align: right;\n",
       "    }\n",
       "</style>\n",
       "<table border=\"1\" class=\"dataframe\">\n",
       "  <thead>\n",
       "    <tr style=\"text-align: right;\">\n",
       "      <th></th>\n",
       "      <th>Out_Day</th>\n",
       "      <th>Out_Month</th>\n",
       "      <th>Duration_Hours</th>\n",
       "      <th>Duration_Mins</th>\n",
       "      <th>Dep_hour</th>\n",
       "      <th>Dep_min</th>\n",
       "      <th>Arrival_hour</th>\n",
       "      <th>Arrival_min</th>\n",
       "      <th>Total_Stops</th>\n",
       "      <th>Out_Airline_AirAsia India</th>\n",
       "      <th>Out_Airline_GoAir</th>\n",
       "      <th>Out_Airline_IndiGo</th>\n",
       "      <th>Out_Airline_Multiple Airlines</th>\n",
       "      <th>Out_Airline_SpiceJet</th>\n",
       "      <th>Out_Airline_Vistara</th>\n",
       "      <th>Out_Cities_BLR</th>\n",
       "      <th>Out_Cities_BOM</th>\n",
       "      <th>Out_Cities_CCJ</th>\n",
       "      <th>Out_Cities_CCU</th>\n",
       "      <th>Out_Cities_CNN</th>\n",
       "      <th>Out_Cities_DEL</th>\n",
       "      <th>Out_Cities_GAU</th>\n",
       "      <th>Out_Cities_IXL</th>\n",
       "      <th>Out_Cities_IXR</th>\n",
       "      <th>Out_Cities_JAI</th>\n",
       "      <th>Out_Cities_MAA</th>\n",
       "      <th>Out_Cities_SHL</th>\n",
       "      <th>Out_Cities_VNS</th>\n",
       "      <th>Return_Cities_AMD</th>\n",
       "      <th>Return_Cities_ATQ</th>\n",
       "      <th>Return_Cities_BLR</th>\n",
       "      <th>Return_Cities_CJB</th>\n",
       "      <th>Return_Cities_DEL</th>\n",
       "      <th>Return_Cities_GAU</th>\n",
       "      <th>Return_Cities_GOP</th>\n",
       "      <th>Return_Cities_HYD</th>\n",
       "      <th>Return_Cities_IXE</th>\n",
       "      <th>Return_Cities_LKO</th>\n",
       "      <th>Return_Cities_MAA</th>\n",
       "      <th>Return_Cities_PAT</th>\n",
       "      <th>Return_Cities_STV</th>\n",
       "      <th>Return_Cities_VGA</th>\n",
       "    </tr>\n",
       "  </thead>\n",
       "  <tbody>\n",
       "    <tr>\n",
       "      <th>0</th>\n",
       "      <td>15</td>\n",
       "      <td>4</td>\n",
       "      <td>16</td>\n",
       "      <td>20</td>\n",
       "      <td>5</td>\n",
       "      <td>25</td>\n",
       "      <td>21</td>\n",
       "      <td>45</td>\n",
       "      <td>0</td>\n",
       "      <td>0</td>\n",
       "      <td>0</td>\n",
       "      <td>0</td>\n",
       "      <td>0</td>\n",
       "      <td>1</td>\n",
       "      <td>0</td>\n",
       "      <td>0</td>\n",
       "      <td>0</td>\n",
       "      <td>0</td>\n",
       "      <td>0</td>\n",
       "      <td>0</td>\n",
       "      <td>0</td>\n",
       "      <td>0</td>\n",
       "      <td>0</td>\n",
       "      <td>0</td>\n",
       "      <td>0</td>\n",
       "      <td>0</td>\n",
       "      <td>0</td>\n",
       "      <td>0</td>\n",
       "      <td>0</td>\n",
       "      <td>0</td>\n",
       "      <td>0</td>\n",
       "      <td>0</td>\n",
       "      <td>0</td>\n",
       "      <td>0</td>\n",
       "      <td>0</td>\n",
       "      <td>0</td>\n",
       "      <td>0</td>\n",
       "      <td>0</td>\n",
       "      <td>1</td>\n",
       "      <td>0</td>\n",
       "      <td>0</td>\n",
       "      <td>0</td>\n",
       "    </tr>\n",
       "    <tr>\n",
       "      <th>1</th>\n",
       "      <td>15</td>\n",
       "      <td>4</td>\n",
       "      <td>5</td>\n",
       "      <td>5</td>\n",
       "      <td>4</td>\n",
       "      <td>15</td>\n",
       "      <td>9</td>\n",
       "      <td>20</td>\n",
       "      <td>0</td>\n",
       "      <td>0</td>\n",
       "      <td>0</td>\n",
       "      <td>1</td>\n",
       "      <td>0</td>\n",
       "      <td>0</td>\n",
       "      <td>0</td>\n",
       "      <td>0</td>\n",
       "      <td>0</td>\n",
       "      <td>0</td>\n",
       "      <td>0</td>\n",
       "      <td>0</td>\n",
       "      <td>0</td>\n",
       "      <td>0</td>\n",
       "      <td>0</td>\n",
       "      <td>0</td>\n",
       "      <td>0</td>\n",
       "      <td>0</td>\n",
       "      <td>0</td>\n",
       "      <td>0</td>\n",
       "      <td>0</td>\n",
       "      <td>0</td>\n",
       "      <td>0</td>\n",
       "      <td>0</td>\n",
       "      <td>0</td>\n",
       "      <td>0</td>\n",
       "      <td>0</td>\n",
       "      <td>0</td>\n",
       "      <td>0</td>\n",
       "      <td>0</td>\n",
       "      <td>1</td>\n",
       "      <td>0</td>\n",
       "      <td>0</td>\n",
       "      <td>0</td>\n",
       "    </tr>\n",
       "    <tr>\n",
       "      <th>2</th>\n",
       "      <td>15</td>\n",
       "      <td>4</td>\n",
       "      <td>4</td>\n",
       "      <td>30</td>\n",
       "      <td>18</td>\n",
       "      <td>15</td>\n",
       "      <td>22</td>\n",
       "      <td>45</td>\n",
       "      <td>0</td>\n",
       "      <td>0</td>\n",
       "      <td>0</td>\n",
       "      <td>1</td>\n",
       "      <td>0</td>\n",
       "      <td>0</td>\n",
       "      <td>0</td>\n",
       "      <td>0</td>\n",
       "      <td>0</td>\n",
       "      <td>0</td>\n",
       "      <td>0</td>\n",
       "      <td>0</td>\n",
       "      <td>0</td>\n",
       "      <td>0</td>\n",
       "      <td>0</td>\n",
       "      <td>0</td>\n",
       "      <td>0</td>\n",
       "      <td>0</td>\n",
       "      <td>0</td>\n",
       "      <td>0</td>\n",
       "      <td>0</td>\n",
       "      <td>0</td>\n",
       "      <td>0</td>\n",
       "      <td>0</td>\n",
       "      <td>0</td>\n",
       "      <td>0</td>\n",
       "      <td>0</td>\n",
       "      <td>0</td>\n",
       "      <td>0</td>\n",
       "      <td>0</td>\n",
       "      <td>1</td>\n",
       "      <td>0</td>\n",
       "      <td>0</td>\n",
       "      <td>0</td>\n",
       "    </tr>\n",
       "    <tr>\n",
       "      <th>3</th>\n",
       "      <td>15</td>\n",
       "      <td>4</td>\n",
       "      <td>4</td>\n",
       "      <td>30</td>\n",
       "      <td>18</td>\n",
       "      <td>15</td>\n",
       "      <td>22</td>\n",
       "      <td>45</td>\n",
       "      <td>0</td>\n",
       "      <td>0</td>\n",
       "      <td>0</td>\n",
       "      <td>1</td>\n",
       "      <td>0</td>\n",
       "      <td>0</td>\n",
       "      <td>0</td>\n",
       "      <td>0</td>\n",
       "      <td>0</td>\n",
       "      <td>0</td>\n",
       "      <td>0</td>\n",
       "      <td>0</td>\n",
       "      <td>0</td>\n",
       "      <td>0</td>\n",
       "      <td>0</td>\n",
       "      <td>0</td>\n",
       "      <td>0</td>\n",
       "      <td>0</td>\n",
       "      <td>0</td>\n",
       "      <td>0</td>\n",
       "      <td>0</td>\n",
       "      <td>0</td>\n",
       "      <td>0</td>\n",
       "      <td>0</td>\n",
       "      <td>0</td>\n",
       "      <td>0</td>\n",
       "      <td>0</td>\n",
       "      <td>0</td>\n",
       "      <td>0</td>\n",
       "      <td>0</td>\n",
       "      <td>1</td>\n",
       "      <td>0</td>\n",
       "      <td>0</td>\n",
       "      <td>0</td>\n",
       "    </tr>\n",
       "    <tr>\n",
       "      <th>4</th>\n",
       "      <td>15</td>\n",
       "      <td>4</td>\n",
       "      <td>4</td>\n",
       "      <td>30</td>\n",
       "      <td>18</td>\n",
       "      <td>15</td>\n",
       "      <td>22</td>\n",
       "      <td>45</td>\n",
       "      <td>0</td>\n",
       "      <td>0</td>\n",
       "      <td>0</td>\n",
       "      <td>1</td>\n",
       "      <td>0</td>\n",
       "      <td>0</td>\n",
       "      <td>0</td>\n",
       "      <td>0</td>\n",
       "      <td>0</td>\n",
       "      <td>0</td>\n",
       "      <td>0</td>\n",
       "      <td>0</td>\n",
       "      <td>0</td>\n",
       "      <td>0</td>\n",
       "      <td>0</td>\n",
       "      <td>0</td>\n",
       "      <td>0</td>\n",
       "      <td>0</td>\n",
       "      <td>0</td>\n",
       "      <td>0</td>\n",
       "      <td>0</td>\n",
       "      <td>0</td>\n",
       "      <td>0</td>\n",
       "      <td>0</td>\n",
       "      <td>0</td>\n",
       "      <td>0</td>\n",
       "      <td>0</td>\n",
       "      <td>0</td>\n",
       "      <td>0</td>\n",
       "      <td>0</td>\n",
       "      <td>1</td>\n",
       "      <td>0</td>\n",
       "      <td>0</td>\n",
       "      <td>0</td>\n",
       "    </tr>\n",
       "  </tbody>\n",
       "</table>\n",
       "</div>"
      ],
      "text/plain": [
       "   Out_Day  Out_Month  Duration_Hours  Duration_Mins  Dep_hour  Dep_min  \\\n",
       "0       15          4              16             20         5       25   \n",
       "1       15          4               5              5         4       15   \n",
       "2       15          4               4             30        18       15   \n",
       "3       15          4               4             30        18       15   \n",
       "4       15          4               4             30        18       15   \n",
       "\n",
       "   Arrival_hour  Arrival_min  Total_Stops  Out_Airline_AirAsia India  \\\n",
       "0            21           45            0                          0   \n",
       "1             9           20            0                          0   \n",
       "2            22           45            0                          0   \n",
       "3            22           45            0                          0   \n",
       "4            22           45            0                          0   \n",
       "\n",
       "   Out_Airline_GoAir  Out_Airline_IndiGo  Out_Airline_Multiple Airlines  \\\n",
       "0                  0                   0                              0   \n",
       "1                  0                   1                              0   \n",
       "2                  0                   1                              0   \n",
       "3                  0                   1                              0   \n",
       "4                  0                   1                              0   \n",
       "\n",
       "   Out_Airline_SpiceJet  Out_Airline_Vistara  Out_Cities_BLR  Out_Cities_BOM  \\\n",
       "0                     1                    0               0               0   \n",
       "1                     0                    0               0               0   \n",
       "2                     0                    0               0               0   \n",
       "3                     0                    0               0               0   \n",
       "4                     0                    0               0               0   \n",
       "\n",
       "   Out_Cities_CCJ  Out_Cities_CCU  Out_Cities_CNN  Out_Cities_DEL  \\\n",
       "0               0               0               0               0   \n",
       "1               0               0               0               0   \n",
       "2               0               0               0               0   \n",
       "3               0               0               0               0   \n",
       "4               0               0               0               0   \n",
       "\n",
       "   Out_Cities_GAU  Out_Cities_IXL  Out_Cities_IXR  Out_Cities_JAI  \\\n",
       "0               0               0               0               0   \n",
       "1               0               0               0               0   \n",
       "2               0               0               0               0   \n",
       "3               0               0               0               0   \n",
       "4               0               0               0               0   \n",
       "\n",
       "   Out_Cities_MAA  Out_Cities_SHL  Out_Cities_VNS  Return_Cities_AMD  \\\n",
       "0               0               0               0                  0   \n",
       "1               0               0               0                  0   \n",
       "2               0               0               0                  0   \n",
       "3               0               0               0                  0   \n",
       "4               0               0               0                  0   \n",
       "\n",
       "   Return_Cities_ATQ  Return_Cities_BLR  Return_Cities_CJB  Return_Cities_DEL  \\\n",
       "0                  0                  0                  0                  0   \n",
       "1                  0                  0                  0                  0   \n",
       "2                  0                  0                  0                  0   \n",
       "3                  0                  0                  0                  0   \n",
       "4                  0                  0                  0                  0   \n",
       "\n",
       "   Return_Cities_GAU  Return_Cities_GOP  Return_Cities_HYD  Return_Cities_IXE  \\\n",
       "0                  0                  0                  0                  0   \n",
       "1                  0                  0                  0                  0   \n",
       "2                  0                  0                  0                  0   \n",
       "3                  0                  0                  0                  0   \n",
       "4                  0                  0                  0                  0   \n",
       "\n",
       "   Return_Cities_LKO  Return_Cities_MAA  Return_Cities_PAT  Return_Cities_STV  \\\n",
       "0                  0                  1                  0                  0   \n",
       "1                  0                  1                  0                  0   \n",
       "2                  0                  1                  0                  0   \n",
       "3                  0                  1                  0                  0   \n",
       "4                  0                  1                  0                  0   \n",
       "\n",
       "   Return_Cities_VGA  \n",
       "0                  0  \n",
       "1                  0  \n",
       "2                  0  \n",
       "3                  0  \n",
       "4                  0  "
      ]
     },
     "execution_count": 44,
     "metadata": {},
     "output_type": "execute_result"
    }
   ],
   "source": [
    "#  WORKING FOR X SPLIT\n",
    "\n",
    "X = Clean_data.drop(['Price'], axis = 1)\n",
    "X.head()"
   ]
  },
  {
   "cell_type": "code",
   "execution_count": 45,
   "metadata": {},
   "outputs": [
    {
     "data": {
      "text/plain": [
       "0    6125.0\n",
       "1    6686.0\n",
       "2    6686.0\n",
       "3    6686.0\n",
       "4    6686.0\n",
       "Name: Price, dtype: float64"
      ]
     },
     "execution_count": 45,
     "metadata": {},
     "output_type": "execute_result"
    }
   ],
   "source": [
    "y = Clean_data.Price\n",
    "y.head()"
   ]
  },
  {
   "cell_type": "code",
   "execution_count": 46,
   "metadata": {},
   "outputs": [
    {
     "data": {
      "image/png": "[encoded data removed]",
      "text/plain": [
       "<Figure size 1296x1296 with 2 Axes>"
      ]
     },
     "metadata": {
      "needs_background": "light"
     },
     "output_type": "display_data"
    }
   ],
   "source": [
    "# Finds correlation between Independent and dependent attributes\n",
    "\n",
    "plt.figure(figsize = (18,18))\n",
    "sns.heatmap(data.corr(), annot = True, cmap = \"RdYlGn\")\n",
    "\n",
    "plt.show()"
   ]
  },
  {
   "cell_type": "markdown",
   "metadata": {},
   "source": [
    "**Important Feature using ExtraTreesRegressor**"
   ]
  },
  {
   "cell_type": "code",
   "execution_count": 47,
   "metadata": {},
   "outputs": [
    {
     "data": {
      "text/plain": [
       "ExtraTreesRegressor()"
      ]
     },
     "execution_count": 47,
     "metadata": {},
     "output_type": "execute_result"
    }
   ],
   "source": [
    "# Important feature using ExtraTreesRegressor\n",
    "\n",
    "from sklearn.ensemble import ExtraTreesRegressor\n",
    "selection = ExtraTreesRegressor()\n",
    "selection.fit(X, y)"
   ]
  },
  {
   "cell_type": "code",
   "execution_count": 48,
   "metadata": {},
   "outputs": [
    {
     "name": "stdout",
     "output_type": "stream",
     "text": [
      "[2.51603078e-02 2.85020204e-02 1.24148525e-01 8.70992123e-03\n",
      " 5.10862571e-03 8.52478474e-03 9.04103508e-03 8.47115850e-03\n",
      " 8.32186479e-02 5.41929323e-04 4.75046349e-04 5.54250608e-03\n",
      " 2.68564422e-07 1.22864386e-02 3.09713930e-03 8.42593651e-04\n",
      " 2.54692606e-03 2.99164077e-02 3.01847419e-03 7.25559226e-03\n",
      " 6.49588840e-03 6.72506654e-03 2.29528081e-03 6.19995927e-03\n",
      " 1.01881321e-03 1.90857106e-03 5.09148920e-01 1.90089963e-03\n",
      " 7.05881379e-03 5.14401080e-04 7.79859219e-04 4.74124429e-04\n",
      " 9.41225337e-03 4.12686439e-02 5.06923340e-03 4.46590198e-03\n",
      " 9.11255881e-03 2.06522373e-03 6.34975310e-03 1.95122552e-03\n",
      " 8.65205768e-03 7.24202654e-04]\n"
     ]
    }
   ],
   "source": [
    "print(selection.feature_importances_)"
   ]
  },
  {
   "cell_type": "code",
   "execution_count": 49,
   "metadata": {},
   "outputs": [
    {
     "data": {
      "image/png": "[encoded data removed]",
      "text/plain": [
       "<Figure size 864x576 with 1 Axes>"
      ]
     },
     "metadata": {
      "needs_background": "light"
     },
     "output_type": "display_data"
    }
   ],
   "source": [
    "#plot graph of feature importances for better visualization\n",
    "\n",
    "plt.figure(figsize = (12,8))\n",
    "feat_importances = pd.Series(selection.feature_importances_, index=X.columns)\n",
    "feat_importances.nlargest(20).plot(kind='barh')\n",
    "plt.show()"
   ]
  },
  {
   "cell_type": "markdown",
   "metadata": {},
   "source": [
    "#**Using train_test_split from sklearn.model_selection**"
   ]
  },
  {
   "cell_type": "code",
   "execution_count": 50,
   "metadata": {},
   "outputs": [],
   "source": [
    "from sklearn.model_selection import train_test_split\n",
    "X_train, X_test, y_train, y_test = train_test_split(X, y, test_size = 0.25, random_state = 0)"
   ]
  },
  {
   "cell_type": "markdown",
   "metadata": {},
   "source": [
    "\n",
    "**RandomForest**"
   ]
  },
  {
   "cell_type": "code",
   "execution_count": 51,
   "metadata": {},
   "outputs": [
    {
     "data": {
      "text/plain": [
       "RandomForestRegressor()"
      ]
     },
     "execution_count": 51,
     "metadata": {},
     "output_type": "execute_result"
    }
   ],
   "source": [
    "from sklearn.ensemble import RandomForestRegressor\n",
    "reg_rf = RandomForestRegressor()\n",
    "reg_rf.fit(X_train, y_train)"
   ]
  },
  {
   "cell_type": "code",
   "execution_count": 52,
   "metadata": {},
   "outputs": [],
   "source": [
    "#Prediction Now:\n",
    "\n",
    "y_pred = reg_rf.predict(X_test)"
   ]
  },
  {
   "cell_type": "code",
   "execution_count": 53,
   "metadata": {},
   "outputs": [
    {
     "name": "stdout",
     "output_type": "stream",
     "text": [
      "[ 4973.25870847 11766.93911111  9732.30568326 13601.67345094\n",
      "  7016.16477739  2585.32241342 11423.32815462 11412.20778788\n",
      " 12806.86108294  9487.441001    3291.90166667  6495.0445\n",
      " 10001.34819976 18796.          8546.47990055  7536.31192424\n",
      "  8667.56055952  8998.43350794  4345.797149    9712.08751196\n",
      "  6695.62        4973.25870847  8648.          6543.73033333\n",
      "  6333.82        9487.441001   17512.35861322 10439.02428571\n",
      "  9218.37222509  6748.80424603  8700.98029762  9894.93\n",
      "  7853.8617767   6676.08716667 12989.98904762 10123.79989494\n",
      "  8658.19816558  7454.46039791 13304.14445238 17689.25966667\n",
      "  6611.82       12925.24095238 17631.         10900.77052747\n",
      "  9521.02833333  8971.89866667 21265.03471429  6955.\n",
      "  4345.797149    9521.02833333  8057.          9487.441001\n",
      "  9487.441001    2736.62812305 10612.2346405  10437.124\n",
      "  9487.441001   12934.83733333  9467.05162197 18796.\n",
      "  2445.8476221   9732.30568326  9432.94439683 12237.5410689\n",
      "  7853.8617767   9218.37222509  2585.32241342  6421.98785714\n",
      "  7664.88326069 11412.20778788  8648.          7763.059283\n",
      "  9559.48868506  8667.56055952  7836.86458333  8523.70350733\n",
      "  4497.00925119  8057.          7377.2687013  12209.98911905\n",
      " 12934.83733333  8381.79481019 17126.39391286  7720.33761753\n",
      "  9138.20192857  4345.797149   17126.39391286  7509.70892361\n",
      " 13601.67345094  3279.10766667  8667.56055952  7791.425\n",
      "  4345.797149    5999.00224206  9559.48868506  9326.00977853\n",
      " 17388.90710741  7275.71928571  6955.          9636.95428571\n",
      "  8957.15283541  7853.8617767   7506.26147222  6588.28265043\n",
      "  8648.         10123.79989494  6421.98785714  8913.56571358\n",
      " 11076.45003968  7866.46466667  9467.05162197  8197.77834504\n",
      " 12237.5410689  11656.2        13349.4        18796.\n",
      "  8854.40336905  8700.98029762 17388.90710741 19468.02029304\n",
      "  6212.488      13304.14445238  9048.46330303 12934.83733333\n",
      "  2864.35833333  8936.67516667  7509.70892361  5132.47371933\n",
      "  7454.46039791 10123.79989494 12934.83733333  8196.08883333\n",
      "  7611.48007143  9028.45423672  7853.8617767   7852.47684684\n",
      "  8381.79481019  7530.12875786  3602.45384615  5071.00650919\n",
      "  7319.70135714  5132.47371933  8530.22        7046.41693343\n",
      "  5071.00650919  2585.32241342 10448.          6588.28265043\n",
      " 11247.10828571  7730.0025      7509.70892361 19639.00095238\n",
      "  9930.39367592  8817.40684993  8381.79481019 10038.721\n",
      "  8037.65627778  8454.65723343 11986.21303968  7496.89803934\n",
      "  8648.          8149.02516667 18796.          6748.80424603\n",
      "  8134.22        8848.90576289  7720.33761753  8667.56055952\n",
      "  4345.797149    2445.8476221  18796.          7509.70892361\n",
      "  6543.73033333  9218.37222509  9406.13329762  9138.20192857\n",
      "  5270.17        7319.70135714 13601.67345094  8648.\n",
      "  8057.          8658.19816558 11766.93911111  7319.70135714\n",
      "  5072.66071449  7853.8617767   7720.33761753  5132.47371933\n",
      "  7454.46039791  6695.62        4345.797149    7060.64242929\n",
      "  6695.62        3836.6725      5999.00224206  8196.08883333\n",
      "  6375.87338492 17631.         17388.90710741 10894.98880952\n",
      "  6772.215       7964.68309803  2445.8476221  10463.925\n",
      "  7964.68309803  3291.90166667  7853.8617767   5270.17\n",
      "  8957.15283541 19468.02029304 17512.35861322  7145.98749206\n",
      " 11412.20778788 17126.39391286 10777.0457381  17512.35861322\n",
      "  7853.8617767   8013.94925702  3602.45384615  8454.65723343\n",
      "  6433.16452381 12924.63        7964.68309803 11412.20778788\n",
      " 10900.77052747 19639.00095238  7964.68309803  6955.\n",
      " 19639.00095238  7852.47684684 19639.00095238  2464.17\n",
      "  9487.441001    8648.          9487.441001   12934.83733333\n",
      "  7964.68309803  8197.77834504  8381.79481019 12925.24095238\n",
      "  8454.65723343  3741.82916667  8876.40551515 11656.2\n",
      " 21265.03471429  6766.49        6375.87338492 17388.90710741\n",
      "  8013.94925702  7720.33761753  2585.32241342  5132.47371933\n",
      "  2585.32241342  9138.20192857  7730.0025      2447.00833333\n",
      "  7509.70892361 12989.98904762  4497.00925119  9487.441001\n",
      " 17512.35861322 17126.39391286  9166.77833009 10448.\n",
      "  2445.8476221   2445.8476221  11247.10828571  8057.\n",
      "  4345.797149    7097.97833333  9487.441001    6464.73200071\n",
      "  7664.88326069  6588.28265043  4497.00925119  7853.8617767 ]\n"
     ]
    }
   ],
   "source": [
    "print(y_pred)"
   ]
  },
  {
   "cell_type": "code",
   "execution_count": 54,
   "metadata": {},
   "outputs": [
    {
     "data": {
      "text/plain": [
       "0.9846265990069389"
      ]
     },
     "execution_count": 54,
     "metadata": {},
     "output_type": "execute_result"
    }
   ],
   "source": [
    "reg_rf.score(X_train, y_train)"
   ]
  },
  {
   "cell_type": "code",
   "execution_count": 55,
   "metadata": {},
   "outputs": [
    {
     "data": {
      "text/plain": [
       "0.9454575022121879"
      ]
     },
     "execution_count": 55,
     "metadata": {},
     "output_type": "execute_result"
    }
   ],
   "source": [
    "reg_rf.score(X_test, y_test)"
   ]
  },
  {
   "cell_type": "code",
   "execution_count": 56,
   "metadata": {},
   "outputs": [
    {
     "name": "stdout",
     "output_type": "stream",
     "text": [
      "Metrics for RandomForestRegressor:\n",
      "========  ========\n",
      "RMSE      948.46\n",
      "MSE       899577\n",
      "MAPE      6.14537\n",
      "MAE       521.057\n",
      "R2_score  0.945458\n",
      "Adj_R2    0.935626\n",
      "========  ========\n"
     ]
    }
   ],
   "source": [
    "from sklearn.metrics import r2_score, mean_absolute_error, mean_squared_error, mean_absolute_percentage_error\n",
    "from tabulate import tabulate\n",
    "\n",
    "n = len(X_test)\n",
    "k = X_test.shape[1]\n",
    "\n",
    "R2_Score = r2_score(y_test, y_pred)\n",
    "Adj_r2 = 1 - (1 - R2_Score) * (n-1)/(n-k-1)\n",
    "MAPE = mean_absolute_percentage_error(y_test, y_pred)*100\n",
    "MSE = mean_squared_error(y_test, y_pred)\n",
    "MAE = mean_absolute_error(y_test, y_pred)\n",
    "RMSE = np.sqrt(MSE)\n",
    "\n",
    "print(\"Metrics for RandomForestRegressor:\")\n",
    "print(tabulate([['RMSE', RMSE],['MSE', MSE],['MAPE', MAPE],['MAE', MAE],['R2_score', R2_Score],['Adj_R2', Adj_r2]], tablefmt = 'rst', numalign = 'left'))\n"
   ]
  },
  {
   "cell_type": "markdown",
   "metadata": {},
   "source": [
    "**HyperParameter Tuning**\n"
   ]
  },
  {
   "cell_type": "code",
   "execution_count": 57,
   "metadata": {},
   "outputs": [],
   "source": [
    "from sklearn.model_selection import RandomizedSearchCV"
   ]
  },
  {
   "cell_type": "code",
   "execution_count": 58,
   "metadata": {},
   "outputs": [],
   "source": [
    "#Randomized Search CV\n",
    "\n",
    "# Number of trees in random forest\n",
    "n_estimators = [int(x) for x in np.linspace(start = 100, stop = 1200, num = 12)]\n",
    "# Number of features to consider at every split\n",
    "max_features = ['auto', 'sqrt']\n",
    "# Maximum number of levels in tree\n",
    "max_depth = [int(x) for x in np.linspace(5, 30, num = 6)]\n",
    "# Minimum number of samples required to split a node\n",
    "min_samples_split = [2, 5, 10, 15, 100]\n",
    "# Minimum number of samples required at each leaf node\n",
    "min_samples_leaf = [1, 2, 5, 10]"
   ]
  },
  {
   "cell_type": "code",
   "execution_count": 59,
   "metadata": {},
   "outputs": [],
   "source": [
    "# Create the random grid\n",
    "\n",
    "random_grid = {'n_estimators': n_estimators,\n",
    "               'max_features': max_features,\n",
    "               'max_depth': max_depth,\n",
    "               'min_samples_split': min_samples_split,\n",
    "               'min_samples_leaf': min_samples_leaf}"
   ]
  },
  {
   "cell_type": "code",
   "execution_count": 60,
   "metadata": {},
   "outputs": [],
   "source": [
    "# Random search of parameters, using 5 fold cross validation, \n",
    "# search across 100 different combinations\n",
    "rf_random = RandomizedSearchCV(estimator = reg_rf, param_distributions = random_grid,scoring='neg_mean_squared_error', n_iter = 10, cv = 5, verbose=2, random_state=42, n_jobs = 1)"
   ]
  },
  {
   "cell_type": "code",
   "execution_count": 61,
   "metadata": {},
   "outputs": [
    {
     "name": "stdout",
     "output_type": "stream",
     "text": [
      "Fitting 5 folds for each of 10 candidates, totalling 50 fits\n",
      "[CV] END max_depth=10, max_features=sqrt, min_samples_leaf=5, min_samples_split=5, n_estimators=900; total time=   2.9s\n",
      "[CV] END max_depth=10, max_features=sqrt, min_samples_leaf=5, min_samples_split=5, n_estimators=900; total time=   2.8s\n",
      "[CV] END max_depth=10, max_features=sqrt, min_samples_leaf=5, min_samples_split=5, n_estimators=900; total time=   3.0s\n",
      "[CV] END max_depth=10, max_features=sqrt, min_samples_leaf=5, min_samples_split=5, n_estimators=900; total time=   3.0s\n",
      "[CV] END max_depth=10, max_features=sqrt, min_samples_leaf=5, min_samples_split=5, n_estimators=900; total time=   2.8s\n",
      "[CV] END max_depth=15, max_features=sqrt, min_samples_leaf=2, min_samples_split=10, n_estimators=1100; total time=   3.7s\n",
      "[CV] END max_depth=15, max_features=sqrt, min_samples_leaf=2, min_samples_split=10, n_estimators=1100; total time=   3.7s\n",
      "[CV] END max_depth=15, max_features=sqrt, min_samples_leaf=2, min_samples_split=10, n_estimators=1100; total time=   3.7s\n",
      "[CV] END max_depth=15, max_features=sqrt, min_samples_leaf=2, min_samples_split=10, n_estimators=1100; total time=   3.7s\n",
      "[CV] END max_depth=15, max_features=sqrt, min_samples_leaf=2, min_samples_split=10, n_estimators=1100; total time=   3.6s\n",
      "[CV] END max_depth=15, max_features=auto, min_samples_leaf=5, min_samples_split=100, n_estimators=300; total time=   1.4s\n",
      "[CV] END max_depth=15, max_features=auto, min_samples_leaf=5, min_samples_split=100, n_estimators=300; total time=   1.3s\n",
      "[CV] END max_depth=15, max_features=auto, min_samples_leaf=5, min_samples_split=100, n_estimators=300; total time=   1.3s\n",
      "[CV] END max_depth=15, max_features=auto, min_samples_leaf=5, min_samples_split=100, n_estimators=300; total time=   1.3s\n",
      "[CV] END max_depth=15, max_features=auto, min_samples_leaf=5, min_samples_split=100, n_estimators=300; total time=   1.3s\n",
      "[CV] END max_depth=15, max_features=auto, min_samples_leaf=5, min_samples_split=5, n_estimators=400; total time=   2.2s\n",
      "[CV] END max_depth=15, max_features=auto, min_samples_leaf=5, min_samples_split=5, n_estimators=400; total time=   2.2s\n",
      "[CV] END max_depth=15, max_features=auto, min_samples_leaf=5, min_samples_split=5, n_estimators=400; total time=   2.3s\n",
      "[CV] END max_depth=15, max_features=auto, min_samples_leaf=5, min_samples_split=5, n_estimators=400; total time=   2.2s\n",
      "[CV] END max_depth=15, max_features=auto, min_samples_leaf=5, min_samples_split=5, n_estimators=400; total time=   2.2s\n",
      "[CV] END max_depth=20, max_features=auto, min_samples_leaf=10, min_samples_split=5, n_estimators=700; total time=   3.6s\n",
      "[CV] END max_depth=20, max_features=auto, min_samples_leaf=10, min_samples_split=5, n_estimators=700; total time=   3.7s\n",
      "[CV] END max_depth=20, max_features=auto, min_samples_leaf=10, min_samples_split=5, n_estimators=700; total time=   3.5s\n",
      "[CV] END max_depth=20, max_features=auto, min_samples_leaf=10, min_samples_split=5, n_estimators=700; total time=   3.5s\n",
      "[CV] END max_depth=20, max_features=auto, min_samples_leaf=10, min_samples_split=5, n_estimators=700; total time=   3.6s\n",
      "[CV] END max_depth=25, max_features=sqrt, min_samples_leaf=1, min_samples_split=2, n_estimators=1000; total time=   3.8s\n",
      "[CV] END max_depth=25, max_features=sqrt, min_samples_leaf=1, min_samples_split=2, n_estimators=1000; total time=   3.8s\n",
      "[CV] END max_depth=25, max_features=sqrt, min_samples_leaf=1, min_samples_split=2, n_estimators=1000; total time=   3.8s\n",
      "[CV] END max_depth=25, max_features=sqrt, min_samples_leaf=1, min_samples_split=2, n_estimators=1000; total time=   4.2s\n",
      "[CV] END max_depth=25, max_features=sqrt, min_samples_leaf=1, min_samples_split=2, n_estimators=1000; total time=   4.0s\n",
      "[CV] END max_depth=5, max_features=sqrt, min_samples_leaf=10, min_samples_split=15, n_estimators=1100; total time=   3.2s\n",
      "[CV] END max_depth=5, max_features=sqrt, min_samples_leaf=10, min_samples_split=15, n_estimators=1100; total time=   3.2s\n",
      "[CV] END max_depth=5, max_features=sqrt, min_samples_leaf=10, min_samples_split=15, n_estimators=1100; total time=   3.1s\n",
      "[CV] END max_depth=5, max_features=sqrt, min_samples_leaf=10, min_samples_split=15, n_estimators=1100; total time=   3.1s\n",
      "[CV] END max_depth=5, max_features=sqrt, min_samples_leaf=10, min_samples_split=15, n_estimators=1100; total time=   3.2s\n",
      "[CV] END max_depth=15, max_features=sqrt, min_samples_leaf=1, min_samples_split=15, n_estimators=300; total time=   1.0s\n",
      "[CV] END max_depth=15, max_features=sqrt, min_samples_leaf=1, min_samples_split=15, n_estimators=300; total time=   0.9s\n",
      "[CV] END max_depth=15, max_features=sqrt, min_samples_leaf=1, min_samples_split=15, n_estimators=300; total time=   0.9s\n",
      "[CV] END max_depth=15, max_features=sqrt, min_samples_leaf=1, min_samples_split=15, n_estimators=300; total time=   0.9s\n",
      "[CV] END max_depth=15, max_features=sqrt, min_samples_leaf=1, min_samples_split=15, n_estimators=300; total time=   0.9s\n",
      "[CV] END max_depth=5, max_features=sqrt, min_samples_leaf=2, min_samples_split=10, n_estimators=700; total time=   2.0s\n",
      "[CV] END max_depth=5, max_features=sqrt, min_samples_leaf=2, min_samples_split=10, n_estimators=700; total time=   2.0s\n",
      "[CV] END max_depth=5, max_features=sqrt, min_samples_leaf=2, min_samples_split=10, n_estimators=700; total time=   2.0s\n",
      "[CV] END max_depth=5, max_features=sqrt, min_samples_leaf=2, min_samples_split=10, n_estimators=700; total time=   2.0s\n",
      "[CV] END max_depth=5, max_features=sqrt, min_samples_leaf=2, min_samples_split=10, n_estimators=700; total time=   2.0s\n",
      "[CV] END max_depth=20, max_features=auto, min_samples_leaf=1, min_samples_split=15, n_estimators=700; total time=   4.1s\n",
      "[CV] END max_depth=20, max_features=auto, min_samples_leaf=1, min_samples_split=15, n_estimators=700; total time=   4.1s\n",
      "[CV] END max_depth=20, max_features=auto, min_samples_leaf=1, min_samples_split=15, n_estimators=700; total time=   4.1s\n",
      "[CV] END max_depth=20, max_features=auto, min_samples_leaf=1, min_samples_split=15, n_estimators=700; total time=   4.4s\n",
      "[CV] END max_depth=20, max_features=auto, min_samples_leaf=1, min_samples_split=15, n_estimators=700; total time=   4.2s\n"
     ]
    },
    {
     "data": {
      "text/plain": [
       "RandomizedSearchCV(cv=5, estimator=RandomForestRegressor(), n_jobs=1,\n",
       "                   param_distributions={'max_depth': [5, 10, 15, 20, 25, 30],\n",
       "                                        'max_features': ['auto', 'sqrt'],\n",
       "                                        'min_samples_leaf': [1, 2, 5, 10],\n",
       "                                        'min_samples_split': [2, 5, 10, 15,\n",
       "                                                              100],\n",
       "                                        'n_estimators': [100, 200, 300, 400,\n",
       "                                                         500, 600, 700, 800,\n",
       "                                                         900, 1000, 1100,\n",
       "                                                         1200]},\n",
       "                   random_state=42, scoring='neg_mean_squared_error',\n",
       "                   verbose=2)"
      ]
     },
     "execution_count": 61,
     "metadata": {},
     "output_type": "execute_result"
    }
   ],
   "source": [
    "rf_random.fit(X_train,y_train)"
   ]
  },
  {
   "cell_type": "code",
   "execution_count": 62,
   "metadata": {},
   "outputs": [
    {
     "data": {
      "text/plain": [
       "{'n_estimators': 1000,\n",
       " 'min_samples_split': 2,\n",
       " 'min_samples_leaf': 1,\n",
       " 'max_features': 'sqrt',\n",
       " 'max_depth': 25}"
      ]
     },
     "execution_count": 62,
     "metadata": {},
     "output_type": "execute_result"
    }
   ],
   "source": [
    "rf_random.best_params_"
   ]
  },
  {
   "cell_type": "code",
   "execution_count": 65,
   "metadata": {},
   "outputs": [],
   "source": [
    "prediction = rf_random.predict(X_test)"
   ]
  },
  {
   "cell_type": "code",
   "execution_count": 66,
   "metadata": {},
   "outputs": [
    {
     "name": "stderr",
     "output_type": "stream",
     "text": [
      "C:\\Users\\aliwa\\anaconda3\\lib\\site-packages\\seaborn\\distributions.py:2557: FutureWarning: `distplot` is a deprecated function and will be removed in a future version. Please adapt your code to use either `displot` (a figure-level function with similar flexibility) or `histplot` (an axes-level function for histograms).\n",
      "  warnings.warn(msg, FutureWarning)\n"
     ]
    },
    {
     "data": {
      "image/png": "[encoded data removed]",
      "text/plain": [
       "<Figure size 576x576 with 1 Axes>"
      ]
     },
     "metadata": {
      "needs_background": "light"
     },
     "output_type": "display_data"
    }
   ],
   "source": [
    "plt.figure(figsize = (8,8))\n",
    "sns.distplot(y_test-prediction)\n",
    "plt.show()"
   ]
  },
  {
   "cell_type": "code",
   "execution_count": 67,
   "metadata": {},
   "outputs": [
    {
     "data": {
      "image/png": "[encoded data removed]",
      "text/plain": [
       "<Figure size 576x576 with 1 Axes>"
      ]
     },
     "metadata": {
      "needs_background": "light"
     },
     "output_type": "display_data"
    }
   ],
   "source": [
    "plt.figure(figsize = (8,8))\n",
    "plt.scatter(y_test, prediction, alpha = 0.5)\n",
    "plt.xlabel(\"y_test\")\n",
    "plt.ylabel(\"y_pred\")\n",
    "plt.show()"
   ]
  },
  {
   "cell_type": "code",
   "execution_count": 68,
   "metadata": {},
   "outputs": [
    {
     "name": "stdout",
     "output_type": "stream",
     "text": [
      "MAE: 484.4192081659265\n",
      "MSE: 740542.8396653546\n",
      "RMSE: 860.5479880084285\n",
      "r2_score: 0.9454575022121879\n"
     ]
    }
   ],
   "source": [
    "print('MAE:', mean_absolute_error(y_test, prediction))\n",
    "print('MSE:', mean_squared_error(y_test, prediction))\n",
    "print('RMSE:', np.sqrt(mean_squared_error(y_test, prediction)))\n",
    "print('r2_score:', r2_score(y_test, y_pred))"
   ]
  },
  {
   "cell_type": "markdown",
   "metadata": {},
   "source": [
    "**SAVING THE PICKLE FILE TO REUSE*"
   ]
  },
  {
   "cell_type": "code",
   "execution_count": 77,
   "metadata": {},
   "outputs": [],
   "source": [
    "import pickle\n",
    "# open a file, where you ant to store the data\n",
    "file = open('flight_rf.pkl', 'wb')\n",
    "\n",
    "# dump information to that file\n",
    "pickle.dump(reg_rf, file)"
   ]
  },
  {
   "cell_type": "code",
   "execution_count": 78,
   "metadata": {},
   "outputs": [],
   "source": [
    "model = open('flight_rf.pkl','rb')\n",
    "forest = pickle.load(model)"
   ]
  },
  {
   "cell_type": "code",
   "execution_count": 79,
   "metadata": {},
   "outputs": [],
   "source": [
    "y_prediction = forest.predict(X_test)"
   ]
  },
  {
   "cell_type": "code",
   "execution_count": 80,
   "metadata": {},
   "outputs": [
    {
     "data": {
      "text/plain": [
       "0.9454575022121879"
      ]
     },
     "execution_count": 80,
     "metadata": {},
     "output_type": "execute_result"
    }
   ],
   "source": [
    "r2_score(y_test, y_prediction)"
   ]
  },
  {
   "cell_type": "code",
   "execution_count": null,
   "metadata": {},
   "outputs": [],
   "source": []
  }
 ],
 "metadata": {
  "colab": {
   "collapsed_sections": [],
   "name": "EDA_Stage_Complete.ipynb",
   "provenance": []
  },
  "kernelspec": {
   "display_name": "Python 3",
   "language": "python",
   "name": "python3"
  },
  "language_info": {
   "codemirror_mode": {
    "name": "ipython",
    "version": 3
   },
   "file_extension": ".py",
   "mimetype": "text/x-python",
   "name": "python",
   "nbconvert_exporter": "python",
   "pygments_lexer": "ipython3",
   "version": "3.7.6"
  }
 },
 "nbformat": 4,
 "nbformat_minor": 1
}
